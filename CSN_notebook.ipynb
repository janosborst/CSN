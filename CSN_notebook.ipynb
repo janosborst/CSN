{
 "cells": [
  {
   "attachments": {},
   "cell_type": "markdown",
   "metadata": {
    "id": "SeU25AnsCQYG"
   },
   "source": [
    "<font size=8>  Setting up the Collection Space Navigator\n",
    "\n",
    "In this How-To guide you will produce all necessary files to create a custom version of the Collection Space Navigator (CSN).\n",
    "\n",
    "Project link: https://collection-space-navigator.github.io/ \n",
    "\n",
    "> Note: We highly recommend to first get familiar with the example collection before trying your with your own data."
   ]
  },
  {
   "attachments": {},
   "cell_type": "markdown",
   "metadata": {
    "id": "BcWeuOxUCQYI"
   },
   "source": [
    "<font size=6> 1) Prepare Collection Data\n",
    "\n",
    "Loads the dataset and sets up the metadata.\n",
    "\n"
   ]
  },
  {
   "attachments": {},
   "cell_type": "markdown",
   "metadata": {},
   "source": [
    "### Clone repository and import libraries\n",
    "Downloads the offical CSN repository from https://github.com/Collection-Space-Navigator/CSN and loads all necessary libraries.\n",
    ">Note: Optional libraries will be installed only if needed."
   ]
  },
  {
   "cell_type": "code",
   "execution_count": 11,
   "metadata": {
    "cellView": "form",
    "id": "w25_J6m4CQYJ"
   },
   "outputs": [],
   "source": [
    "# !git clone https://github.com/Collection-Space-Navigator/CSN\n",
    "# %cd CSN\n",
    "\n",
    "import json, math, os, io\n",
    "import pandas as pd\n",
    "import numpy as np\n",
    "import ipywidgets as widgets\n",
    "from ipywidgets import interactive,HBox,VBox,Label\n",
    "from IPython.display import display"
   ]
  },
  {
   "attachments": {},
   "cell_type": "markdown",
   "metadata": {},
   "source": [
    "### Define INPUT\n",
    ">Note: Running this cell opens a dialog in which the input data can be defined. Use the provided example data (recommended first) or your own.\n"
   ]
  },
  {
   "cell_type": "code",
   "execution_count": 36,
   "metadata": {
    "cellView": "form",
    "id": "r6jZRVHhCQYK",
    "tags": []
   },
   "outputs": [
    {
     "data": {
      "application/vnd.jupyter.widget-view+json": {
       "model_id": "fd495d447e314644a76fe8433171743f",
       "version_major": 2,
       "version_minor": 0
      },
      "text/plain": [
       "HBox(children=(VBox(children=(Text(value='ChildBookIllz', description='Title:', layout=Layout(width='600px'), …"
      ]
     },
     "metadata": {},
     "output_type": "display_data"
    }
   ],
   "source": [
    "style = {'description_width': '250px'}\n",
    "layout = {'width': '600px', 'justify-content': 'lex-satrt'}\n",
    "useExample = widgets.Checkbox(value=True,description='use example data',indent=True)\n",
    "datasetTitle = widgets.Text(placeholder='title of the dataset', description='Title:', style=style, layout=layout, value = \"ChildBookIllz\")\n",
    "description = widgets.Textarea(placeholder='Short description of the dataset and method(s)', description='Description (optional):', style=style, layout=layout, value=\"\")\n",
    "embeddingsLocation = widgets.Text(placeholder='path to embeddings file (.csv)', description='Embeddings Filepath (optional):', style=style, layout=layout, value = \"CSN/example_data/embeddings_testset.csv\")\n",
    "metadataLocation = widgets.Text(placeholder='path to metadata file (.csv)', description='Metadata Filepath:', style=style, layout=layout, value = \"CSN/example_data/metadata_testset.csv\")\n",
    "imageLocation = widgets.Text(placeholder='path to image collection folder', description='Image Folder:', style=style, layout=layout, value = \"CSN/example_data/testset_images/\")\n",
    "imageWebLocation = widgets.Text(placeholder='URL prefix to public image directory', description='Image URL prefix:',style=style, layout=layout, value =  \"https://github.com/Collection-Space-Navigator/CSN/raw/main/example_data/testset_images/\")\n",
    "\n",
    "corpus_name = \"ChildBookIllu-CSN-5000\"\n",
    "\n",
    "\n",
    "imageLocation.value = f\"{corpus_name}/images/\"\n",
    "embeddingsLocation.value = f\"{corpus_name}/embeddings.csv\"\n",
    "metadataLocation.value = f\"{corpus_name}/metadata.csv\"  \n",
    "\n",
    "imageWebLocation.value =  f\"{corpus_name}/images/\"\n",
    "\n",
    "\n",
    "subset = widgets.Checkbox(value=False,description='make subset',indent=True)\n",
    "subsetSize = widgets.BoundedIntText(value=2048,min=10,max=9999999, step=1,description='Subset size:')\n",
    "def makeSubset(SUBSET):\n",
    "    if SUBSET:\n",
    "        display(subsetSize)\n",
    "    else:\n",
    "        subsetSize.value == None\n",
    "i = interactive(makeSubset, SUBSET = subset)\n",
    "left = VBox([datasetTitle, description, embeddingsLocation, metadataLocation, imageLocation, imageWebLocation])\n",
    "right = VBox([useExample, i])\n",
    "display(HBox([left,right]))"
   ]
  },
  {
   "attachments": {},
   "cell_type": "markdown",
   "metadata": {},
   "source": [
    "### Load INPUT files\n",
    "Loads and checks all files.\n",
    "\n",
    ">Note: Example data will be downloaded only if needed."
   ]
  },
  {
   "cell_type": "code",
   "execution_count": 37,
   "metadata": {},
   "outputs": [
    {
     "data": {
      "text/plain": [
       "Index(['index', 'colorfulness', 'Unnamed: 0', 'Ort', 'entropy', 'PC2',\n",
       "       'Weitere Verfasser', 'filename', 'n_colors', 'Jahr', 'url', 'contrast',\n",
       "       'Title', 'Verfasser', 'ID', 'Verlag', 'PC1'],\n",
       "      dtype='object')"
      ]
     },
     "execution_count": 37,
     "metadata": {},
     "output_type": "execute_result"
    }
   ],
   "source": [
    "metadata.columns"
   ]
  },
  {
   "cell_type": "code",
   "execution_count": 38,
   "metadata": {
    "cellView": "form",
    "id": "tHhLCEWOykFu"
   },
   "outputs": [
    {
     "name": "stdout",
     "output_type": "stream",
     "text": [
      "found 4989 files in ChildBookIllu-CSN-5000/images/\n",
      "found 4989 entries in ChildBookIllu-CSN-5000/metadata.csv\n",
      "found 4989 entries in ChildBookIllu-CSN-5000/embeddings.csv\n",
      "Looks ok.\n",
      "\n",
      "Embedding file contains 4989 vectors in 512 dimensions.\n",
      "Metadata Head:\n",
      "   Unnamed: 0                            filename                  ID  \\\n",
      "0           0  dbbs-mods-00000458-00000013-0.jpeg  dbbs_mods_00000458   \n",
      "1           1       PPN1817987607-00000400-0.jpeg       PPN1817987607   \n",
      "2           2           016142853-00000084-0.jpeg           016142853   \n",
      "3           3           617031967-00000247-0.jpeg           617031967   \n",
      "4           4           246027339-00000073-0.jpeg           246027339   \n",
      "\n",
      "                                               Title          Jahr  \\\n",
      "0                                                NaN          1882   \n",
      "1  Volksmährchen der Deutschen : Prachtausgabe in...          1847   \n",
      "2                                                NaN          1907   \n",
      "3                                                NaN  1853; [18]53   \n",
      "4                                                NaN  1855; [1855]   \n",
      "\n",
      "        Verlag             Ort  \\\n",
      "0    Routledge          London   \n",
      "1        Mayer         Leipzig   \n",
      "2      Teubner  Leipzig [usw.]   \n",
      "3  Winckelmann          Berlin   \n",
      "4      Teubner         Leipzig   \n",
      "\n",
      "                                           Verfasser Weitere Verfasser  \\\n",
      "0                                Caldecott, Randolph               NaN   \n",
      "1                                                NaN               NaN   \n",
      "2                   Gansberg, Fritz; Gansberg, Fritz               NaN   \n",
      "3                                  Körner, Friedrich               NaN   \n",
      "4  Brandon, Charles; Meissonier, Jean Louis Ernes...               NaN   \n",
      "\n",
      "                                                 url   contrast  n_colors  \\\n",
      "0  https://ds.colibri-portal.eu/image/dbbs_mods_0...  35.122709  0.000767   \n",
      "1   https://ds.colibri-portal.eu/image/PPN1817987607  70.320993  0.000393   \n",
      "2       https://ds.colibri-portal.eu/image/016142853  61.153148  0.000149   \n",
      "3       https://ds.colibri-portal.eu/image/617031967  49.819534  0.001335   \n",
      "4       https://ds.colibri-portal.eu/image/246027339  59.395571  0.000099   \n",
      "\n",
      "   colorfulness   entropy  \n",
      "0     42.317345  0.818192  \n",
      "1    154.428641  0.937905  \n",
      "2     93.184097  0.912797  \n",
      "3     93.310489  0.985117  \n",
      "4    118.952962  0.926997  \n",
      "Looks ok.\n",
      "Metadata Head:\n",
      "   Unnamed: 0                            filename                  ID  \\\n",
      "0           0  dbbs-mods-00000458-00000013-0.jpeg  dbbs_mods_00000458   \n",
      "1           1       PPN1817987607-00000400-0.jpeg       PPN1817987607   \n",
      "2           2           016142853-00000084-0.jpeg           016142853   \n",
      "3           3           617031967-00000247-0.jpeg           617031967   \n",
      "4           4           246027339-00000073-0.jpeg           246027339   \n",
      "\n",
      "                                               Title          Jahr  \\\n",
      "0                                                NaN          1882   \n",
      "1  Volksmährchen der Deutschen : Prachtausgabe in...          1847   \n",
      "2                                                NaN          1907   \n",
      "3                                                NaN  1853; [18]53   \n",
      "4                                                NaN  1855; [1855]   \n",
      "\n",
      "        Verlag             Ort  \\\n",
      "0    Routledge          London   \n",
      "1        Mayer         Leipzig   \n",
      "2      Teubner  Leipzig [usw.]   \n",
      "3  Winckelmann          Berlin   \n",
      "4      Teubner         Leipzig   \n",
      "\n",
      "                                           Verfasser Weitere Verfasser  \\\n",
      "0                                Caldecott, Randolph               NaN   \n",
      "1                                                NaN               NaN   \n",
      "2                   Gansberg, Fritz; Gansberg, Fritz               NaN   \n",
      "3                                  Körner, Friedrich               NaN   \n",
      "4  Brandon, Charles; Meissonier, Jean Louis Ernes...               NaN   \n",
      "\n",
      "                                                 url   contrast  n_colors  \\\n",
      "0  https://ds.colibri-portal.eu/image/dbbs_mods_0...  35.122709  0.000767   \n",
      "1   https://ds.colibri-portal.eu/image/PPN1817987607  70.320993  0.000393   \n",
      "2       https://ds.colibri-portal.eu/image/016142853  61.153148  0.000149   \n",
      "3       https://ds.colibri-portal.eu/image/617031967  49.819534  0.001335   \n",
      "4       https://ds.colibri-portal.eu/image/246027339  59.395571  0.000099   \n",
      "\n",
      "   colorfulness   entropy  \n",
      "0     42.317345  0.818192  \n",
      "1    154.428641  0.937905  \n",
      "2     93.184097  0.912797  \n",
      "3     93.310489  0.985117  \n",
      "4    118.952962  0.926997  \n",
      "\n",
      "Creating new dataset directory: build/datasets/childbookillz...\n",
      "... folder already exists (might overwrite existing files)\n"
     ]
    }
   ],
   "source": [
    "imagNumb = len(os.listdir(imageLocation.value))\n",
    "print(f'found {imagNumb} files in {imageLocation.value}')\n",
    "mappings = []\n",
    "\n",
    "metadata = pd.read_csv(metadataLocation.value, skipinitialspace=True)\n",
    "if subset.value:\n",
    "    metadata = metadata[:subsetSize.value]\n",
    "metaNumb = len(metadata)\n",
    "print(f'found {metaNumb} entries in {metadataLocation.value}')\n",
    "\n",
    "if embeddingsLocation.value != \"\":\n",
    "  embeddings = pd.read_csv(embeddingsLocation.value, skipinitialspace=True)\n",
    "  embeddings = embeddings.loc[:, embeddings.columns!='id']\n",
    "  embeddings = embeddings.loc[:, embeddings.columns!='ID']\n",
    "  if subset.value:\n",
    "    embeddings = embeddings[:subsetSize.value]\n",
    "  vecNumb = len(embeddings)\n",
    "  print(f'found {vecNumb} entries in {embeddingsLocation.value}')\n",
    "\n",
    "  if metaNumb == vecNumb:\n",
    "    if vecNumb <= imagNumb:\n",
    "      print(\"Looks ok.\")\n",
    "      print()\n",
    "      print(f'Embedding file contains {vecNumb} vectors in {len(embeddings.columns)} dimensions.')\n",
    "      print(\"Metadata Head:\")\n",
    "      print(metadata.head())\n",
    "    else:\n",
    "      print()\n",
    "      print(\"ERROR: number of images is smaller than number of vectors\")\n",
    "\n",
    "if metaNumb <= imagNumb:\n",
    "  print(\"Looks ok.\")\n",
    "  print(\"Metadata Head:\")\n",
    "  print(metadata.head())\n",
    "else:\n",
    "  print()\n",
    "  print(\"ERROR: number of images and metadata elements don't match!\")\n",
    "foldername = datasetTitle.value.lower().replace(\" \",\"_\")\n",
    "print()\n",
    "print(f'Creating new dataset directory: build/datasets/{foldername}...')\n",
    "if not os.path.exists(f\"build/datasets/{foldername}\"):\n",
    "    os.makedirs(f\"build/datasets/{foldername}\")\n",
    "    print(\"... success\")\n",
    "else:\n",
    "    print(\"... folder already exists (might overwrite existing files)\")"
   ]
  },
  {
   "attachments": {},
   "cell_type": "markdown",
   "metadata": {},
   "source": [
    "### Assign metadata fields\n",
    "Choose which field names in the metadata file should be used.   \n",
    "\n",
    ">Note: Select multiple values using ctrl+click, command+mouseclick, or shift+arrow keys.\n"
   ]
  },
  {
   "cell_type": "code",
   "execution_count": 39,
   "metadata": {},
   "outputs": [
    {
     "data": {
      "text/plain": [
       "True"
      ]
     },
     "execution_count": 39,
     "metadata": {},
     "output_type": "execute_result"
    }
   ],
   "source": [
    "metadata[\"filename\"].str.endswith((\".jpg\",\".JPEG\",\"JPG\",\".jpeg\",\".png\",\".PNG\", \".tiff\",\".tif\")).all()"
   ]
  },
  {
   "cell_type": "code",
   "execution_count": 40,
   "metadata": {
    "cellView": "form",
    "id": "AtOUyvwapOfx"
   },
   "outputs": [],
   "source": [
    "filenameColumn = widgets.Dropdown(description=\"Image filenames (JPG or PNG, or Tiff):\",options=[mf for mf in metadata.columns if pd.api.types.is_string_dtype(metadata[mf]) and metadata[mf].str.endswith((\".jpg\",\".JPEG\",\"JPG\",\".jpeg\",\".png\",\".PNG\", \".tiff\",\".tif\")).all()], style=style, layout=layout)\n",
    "classColumns = widgets.SelectMultiple(options=[mf for mf in metadata.columns if mf != \"index\"],description='optional: Cluster data:', style=style, layout=layout)\n",
    "infoColumns = widgets.SelectMultiple(options=[mf for mf in metadata.columns if mf != \"index\"],description='Info fields (display in preview):', style=style, layout=layout)\n",
    "sliderColumns = widgets.SelectMultiple(options=[mf for mf in metadata.columns if pd.api.types.is_numeric_dtype(metadata[mf]) and mf != \"index\"],description='Slider data (floats or integers):', style=style, layout=layout)\n",
    "filterColumns = widgets.SelectMultiple(options=[mf for mf in metadata.columns if pd.api.types.is_string_dtype(metadata[mf]) and mf != 'URL'],description='optional: Filter & Search fields (string):', style=style, layout=layout)"
   ]
  },
  {
   "cell_type": "code",
   "execution_count": 41,
   "metadata": {
    "cellView": "form",
    "id": "AtOUyvwapOfx"
   },
   "outputs": [],
   "source": [
    "if useExample.value == True:\n",
    "  infoColumns.value = tuple(metadata.columns)\n",
    "  sliderColumns.value = tuple([mf for mf in metadata.columns if pd.api.types.is_numeric_dtype(metadata[mf]) and mf != \"index\"])\n",
    "  filterColumns.value = (\"ID\",)\n",
    "  classColumns.value = (\"filename\",)"
   ]
  },
  {
   "cell_type": "code",
   "execution_count": 42,
   "metadata": {
    "cellView": "form",
    "id": "AtOUyvwapOfx"
   },
   "outputs": [
    {
     "data": {
      "application/vnd.jupyter.widget-view+json": {
       "model_id": "a605ce13c04449bcaccc5f8a049bf2f0",
       "version_major": 2,
       "version_minor": 0
      },
      "text/plain": [
       "HBox(children=(VBox(children=(Dropdown(description='Image filenames (JPG or PNG, or Tiff):', layout=Layout(wid…"
      ]
     },
     "metadata": {},
     "output_type": "display_data"
    }
   ],
   "source": [
    "left = VBox([filenameColumn, infoColumns, sliderColumns])\n",
    "right = VBox([filterColumns, classColumns])\n",
    "display(HBox([left,right]))"
   ]
  },
  {
   "attachments": {},
   "cell_type": "markdown",
   "metadata": {
    "id": "IJ29FLXmpIKT"
   },
   "source": [
    "----------------"
   ]
  },
  {
   "attachments": {},
   "cell_type": "markdown",
   "metadata": {
    "id": "4OHuwVEJlZFj"
   },
   "source": [
    "<font size=6> 2) Prepare Image Data\n",
    "\n",
    "To handle large amounts of images efficiently, the CSN uses sprite sheets with multiple thumbnails behind the scenes. These sprite-sheets need to be generated."
   ]
  },
  {
   "cell_type": "code",
   "execution_count": 43,
   "metadata": {},
   "outputs": [
    {
     "data": {
      "text/plain": [
       "'filename'"
      ]
     },
     "execution_count": 43,
     "metadata": {},
     "output_type": "execute_result"
    }
   ],
   "source": [
    "filenameColumn.value"
   ]
  },
  {
   "attachments": {},
   "cell_type": "markdown",
   "metadata": {},
   "source": [
    "### Generate sprite sheets\n",
    ">Note: only needed for new datasets or to update existing sprites (skip this part if you already generated them)\n"
   ]
  },
  {
   "cell_type": "code",
   "execution_count": 44,
   "metadata": {
    "cellView": "form",
    "id": "pBSPbVtXCQYU"
   },
   "outputs": [
    {
     "name": "stderr",
     "output_type": "stream",
     "text": [
      "Generating sprites: 100%|█████████████████████████| 5/5 [00:22<00:00,  4.59s/it]\n"
     ]
    }
   ],
   "source": [
    "from CSN_utils import ImageSpriteGenerator\n",
    "\n",
    "# generate sprite sheets\n",
    "sprite_generator = ImageSpriteGenerator(foldername, spriteSize=2048, spriteRows=32, imageFolder=imageLocation.value, files=metadata[filenameColumn.value]).generate()"
   ]
  },
  {
   "attachments": {},
   "cell_type": "markdown",
   "metadata": {
    "id": "qUD79KzapGlx"
   },
   "source": [
    "----------------"
   ]
  },
  {
   "attachments": {},
   "cell_type": "markdown",
   "metadata": {
    "id": "qvsa4czdCQYV"
   },
   "source": [
    "<font size=6> 3) Generate Mappings\n",
    "\n",
    "Mappings are plots containing 2D coordinates (x,y) of the image objects. \n",
    "\n",
    "Here are several methods you can run. The Collection Space Navigator can handle many mappings but needs at least one to work."
   ]
  },
  {
   "attachments": {},
   "cell_type": "markdown",
   "metadata": {
    "id": "LsI4HATziR69"
   },
   "source": [
    "<font size=5> 3.1 From metadata (optional)"
   ]
  },
  {
   "attachments": {},
   "cell_type": "markdown",
   "metadata": {},
   "source": [
    "### (optional) Create 2D plots\n",
    "Choose 2 metadadata fields (float or integer) and click \"make plot\". Repeat for every combination you want to add.\n",
    ">Note: Running this step opens a dialog in which you can chose X and Y dimensions from the available data and create additional 2D plots\n"
   ]
  },
  {
   "cell_type": "code",
   "execution_count": 45,
   "metadata": {
    "cellView": "form",
    "id": "9sg3a8k_CQYY"
   },
   "outputs": [
    {
     "data": {
      "application/vnd.jupyter.widget-view+json": {
       "model_id": "81c9741210084f819e1325089d48360b",
       "version_major": 2,
       "version_minor": 0
      },
      "text/plain": [
       "HBox(children=(VBox(children=(Dropdown(description='x-axis:', layout=Layout(width='600px'), options=('Unnamed:…"
      ]
     },
     "execution_count": 45,
     "metadata": {},
     "output_type": "execute_result"
    }
   ],
   "source": [
    "from CSN_utils import SimplePlot\n",
    "\n",
    "def plot(v):\n",
    "    result = SimplePlot(foldername,A=AColumn.value, B=BColumn.value, metadata=metadata)\n",
    "    filename = (AColumn.value + \"_\" + BColumn.value).replace(\" \",\"\")\n",
    "    mappings.append({\"name\": filename, \"file\": f\"{filename}.json\"})\n",
    "    \n",
    "AColumn = widgets.Dropdown(description=\"x-axis:\",options=[mf for mf in metadata.columns if pd.api.types.is_numeric_dtype(metadata[mf]) and mf != \"index\"], style=style, layout=layout)\n",
    "BColumn = widgets.Dropdown(description=\"y-axis:\",options=[mf for mf in metadata.columns if pd.api.types.is_numeric_dtype(metadata[mf]) and mf != \"index\"], style=style, layout=layout)\n",
    "button2DPlot = widgets.Button(description='make plot',icon='check')\n",
    "button2DPlot.on_click(plot)\n",
    "left = VBox([AColumn,BColumn])\n",
    "right = VBox([button2DPlot])\n",
    "HBox([left,right])"
   ]
  },
  {
   "attachments": {},
   "cell_type": "markdown",
   "metadata": {
    "id": "TdAkDgquhU73"
   },
   "source": [
    "<font size=5> 3.2 From embeddings (optional)"
   ]
  },
  {
   "attachments": {},
   "cell_type": "markdown",
   "metadata": {},
   "source": [
    "### (optional) Run Principal Component Analysis (PCA)\n",
    ">See PCA documentation: https://scikit-learn.org/stable/modules/generated/sklearn.decomposition.eA.html\n"
   ]
  },
  {
   "cell_type": "code",
   "execution_count": 46,
   "metadata": {
    "cellView": "form",
    "id": "IBwRz1RYnpUr"
   },
   "outputs": [
    {
     "name": "stdout",
     "output_type": "stream",
     "text": [
      "Performing PCA...\n",
      "...done\n",
      "saved PCA.json\n",
      "... added PC1 to metadata\n",
      "... added PC2 to metadata\n"
     ]
    }
   ],
   "source": [
    "components = 2\n",
    "add_slider = True\n",
    "\n",
    "from CSN_utils import PCAGenerator\n",
    "\n",
    "PCAEembedding = PCAGenerator(foldername, scale=True, data=embeddings.values, components=components).generate()\n",
    "mappings.append({\"name\": \"PCA\", \"file\": \"PCA.json\"})\n",
    "\n",
    "# add columns to metadata for each component\n",
    "for i in range(components):\n",
    "  metadata[f\"PC{i+1}\"] = PCAEembedding[:,i]\n",
    "  print(f\"... added PC{i+1} to metadata\")\n",
    "\n",
    "# add slider for each component\n",
    "if add_slider:\n",
    "  sliderCols = list(sliderColumns.value)\n",
    "  for i in range(components):\n",
    "    sliderCols.append(f\"PC{i+1}\")"
   ]
  },
  {
   "attachments": {},
   "cell_type": "markdown",
   "metadata": {},
   "source": [
    "### (optional) Run UMAP: Uniform Manifold Approximation and Projection for Dimension Reduction\n",
    ">See UMAP documentation: https://umap-learn.readthedocs.io/en/latest/\n"
   ]
  },
  {
   "cell_type": "code",
   "execution_count": 47,
   "metadata": {
    "cellView": "form",
    "id": "GrJqZPjYCQYW"
   },
   "outputs": [
    {
     "name": "stdout",
     "output_type": "stream",
     "text": [
      "Generating UMAP...\n",
      "UMAP(angular_rp_forest=True, metric='correlation', min_dist=0.18, verbose=True)\n",
      "Thu Aug 15 09:51:29 2024 Construct fuzzy simplicial set\n",
      "Thu Aug 15 09:51:29 2024 Finding Nearest Neighbors\n",
      "Thu Aug 15 09:51:29 2024 Building RP forest with 9 trees\n",
      "Thu Aug 15 09:51:29 2024 NN descent for 12 iterations\n",
      "\t 1  /  12\n",
      "\t 2  /  12\n",
      "\t 3  /  12\n",
      "\t 4  /  12\n",
      "\t 5  /  12\n",
      "\tStopping threshold met -- exiting after 5 iterations\n",
      "Thu Aug 15 09:51:29 2024 Finished Nearest Neighbor Search\n",
      "Thu Aug 15 09:51:29 2024 Construct embedding\n"
     ]
    },
    {
     "data": {
      "application/vnd.jupyter.widget-view+json": {
       "model_id": "0b8a280d5de84c05bebcf88234579ab2",
       "version_major": 2,
       "version_minor": 0
      },
      "text/plain": [
       "Epochs completed:   0%|            0/500 [00:00]"
      ]
     },
     "metadata": {},
     "output_type": "display_data"
    },
    {
     "name": "stdout",
     "output_type": "stream",
     "text": [
      "\tcompleted  0  /  500 epochs\n",
      "\tcompleted  50  /  500 epochs\n",
      "\tcompleted  100  /  500 epochs\n",
      "\tcompleted  150  /  500 epochs\n",
      "\tcompleted  200  /  500 epochs\n",
      "\tcompleted  250  /  500 epochs\n",
      "\tcompleted  300  /  500 epochs\n",
      "\tcompleted  350  /  500 epochs\n",
      "\tcompleted  400  /  500 epochs\n",
      "\tcompleted  450  /  500 epochs\n",
      "Thu Aug 15 09:51:33 2024 Finished embedding\n",
      "...done\n",
      "saved UMAP.json\n"
     ]
    }
   ],
   "source": [
    "n_neighbors=15 \n",
    "min_dist=0.18 \n",
    "metric=\"correlation\"\n",
    "verbose=True\n",
    "\n",
    "\n",
    "from CSN_utils import UMAPGenerator\n",
    "\n",
    "fullEmbeddings = UMAPGenerator(foldername, data=embeddings.values, \n",
    "                               n_neighbors=n_neighbors, min_dist=min_dist, metric=metric, verbose=verbose).generate()\n",
    "mappings.append({\"name\": \"UMAP\", \"file\": \"UMAP.json\"})\n"
   ]
  },
  {
   "attachments": {},
   "cell_type": "markdown",
   "metadata": {},
   "source": [
    "### (optional) Run t-SNE: t-distributed Stochastic Neighbor Embedding\n",
    ">See t-SNE documentation: https://scikit-learn.org/stable/modules/generated/sklearn.manifold.TSNE.html"
   ]
  },
  {
   "cell_type": "code",
   "execution_count": 48,
   "metadata": {
    "cellView": "form",
    "id": "0NlqxmzVCQYX"
   },
   "outputs": [
    {
     "name": "stdout",
     "output_type": "stream",
     "text": [
      "Generating t-SNE...\n",
      "[t-SNE] Computing 91 nearest neighbors...\n",
      "[t-SNE] Indexed 4989 samples in 0.007s...\n",
      "[t-SNE] Computed neighbors for 4989 samples in 0.456s...\n",
      "[t-SNE] Computed conditional probabilities for sample 1000 / 4989\n",
      "[t-SNE] Computed conditional probabilities for sample 2000 / 4989\n",
      "[t-SNE] Computed conditional probabilities for sample 3000 / 4989\n",
      "[t-SNE] Computed conditional probabilities for sample 4000 / 4989\n",
      "[t-SNE] Computed conditional probabilities for sample 4989 / 4989\n",
      "[t-SNE] Mean sigma: 6.585036\n",
      "[t-SNE] KL divergence after 250 iterations with early exaggeration: 86.538467\n",
      "[t-SNE] KL divergence after 1000 iterations: 2.354389\n",
      "...done\n",
      "saved TSNE.json\n"
     ]
    }
   ],
   "source": [
    "n_components = 2\n",
    "verbose = 1\n",
    "random_state = 123\n",
    "\n",
    "from CSN_utils import TSNEGenerator\n",
    "\n",
    "tsneEembedding = TSNEGenerator(foldername, data=embeddings.values, n_components=n_components, verbose=verbose, random_state=random_state).generate()\n",
    "mappings.append({\"name\": \"t-SNE\", \"file\": \"TSNE.json\"})\n"
   ]
  },
  {
   "attachments": {},
   "cell_type": "markdown",
   "metadata": {},
   "source": [
    "### (optional) Create 2D plots\n",
    "Choose 2 metadadata fields (float or integer) and click \"make plot\". Repeat for every combination you want to add.\n",
    ">Note: Running this step opens a dialog in which you can chose X and Y dimensions from the available data and create additional 2D plots\n"
   ]
  },
  {
   "cell_type": "code",
   "execution_count": 49,
   "metadata": {
    "cellView": "form",
    "id": "f5_ucbG2i_te"
   },
   "outputs": [
    {
     "data": {
      "application/vnd.jupyter.widget-view+json": {
       "model_id": "1e07ae9d3a5c4392bfca73c9383260e4",
       "version_major": 2,
       "version_minor": 0
      },
      "text/plain": [
       "HBox(children=(VBox(children=(Dropdown(description='x-axis:', layout=Layout(width='600px'), options=('Unnamed:…"
      ]
     },
     "execution_count": 49,
     "metadata": {},
     "output_type": "execute_result"
    }
   ],
   "source": [
    "from CSN_utils import SimplePlot\n",
    "\n",
    "def plot(v):\n",
    "    result = SimplePlot(foldername,A=AColumn.value, B=BColumn.value, metadata=metadata)\n",
    "    filename = (AColumn.value + \"_\" + BColumn.value).replace(\" \",\"\")\n",
    "    mappings.append({\"name\": filename, \"file\": f\"{filename}.json\"})\n",
    "    \n",
    "AColumn = widgets.Dropdown(description=\"x-axis:\",options=[mf for mf in metadata.columns if pd.api.types.is_numeric_dtype(metadata[mf]) and mf != \"index\"], style=style, layout=layout)\n",
    "BColumn = widgets.Dropdown(description=\"y-axis:\",options=[mf for mf in metadata.columns if pd.api.types.is_numeric_dtype(metadata[mf]) and mf != \"index\"], style=style, layout=layout)\n",
    "button2DPlot = widgets.Button(description='make plot',icon='check')\n",
    "button2DPlot.on_click(plot)\n",
    "left = VBox([AColumn,BColumn])\n",
    "right = VBox([button2DPlot])\n",
    "HBox([left,right])"
   ]
  },
  {
   "attachments": {},
   "cell_type": "markdown",
   "metadata": {
    "id": "MedpdOTQpEoA"
   },
   "source": [
    "----------------"
   ]
  },
  {
   "attachments": {},
   "cell_type": "markdown",
   "metadata": {
    "id": "e7r2I7QzCQYa"
   },
   "source": [
    "<font size=6> 4) Create Config Files\n",
    "\n",
    "All customization and component settings are defined in the config files."
   ]
  },
  {
   "attachments": {},
   "cell_type": "markdown",
   "metadata": {},
   "source": [
    "### Set Sliders\n",
    "Set the appearance of the range slider elements and histograms."
   ]
  },
  {
   "cell_type": "code",
   "execution_count": 50,
   "metadata": {
    "cellView": "form",
    "id": "YoSHLl1gCT8H"
   },
   "outputs": [
    {
     "name": "stdout",
     "output_type": "stream",
     "text": [
      "\n",
      "Slider Settings:\n",
      "\n"
     ]
    },
    {
     "data": {
      "application/vnd.jupyter.widget-view+json": {
       "model_id": "e81de50e948c4bbaaccecf7af04f1edd",
       "version_major": 2,
       "version_minor": 0
      },
      "text/plain": [
       "HBox(children=(VBox(children=(Label(value=''), Label(value='Unnamed: 0:'), Label(value='contrast:'), Label(val…"
      ]
     },
     "metadata": {},
     "output_type": "display_data"
    }
   ],
   "source": [
    "try:\n",
    "  import distinctipy\n",
    "except:\n",
    "  print(\"Installing distinctipy via Pip\")\n",
    "  !pip install distinctipy --quiet\n",
    "  import distinctipy\n",
    "  \n",
    "# check if sliderCols exists\n",
    "try:\n",
    "  sliderCols\n",
    "except NameError:\n",
    "  sliderCols = list(sliderColumns.value)\n",
    "  \n",
    "if len(sliderCols) > 0:    \n",
    "  layoutCol = {'width': '110px'}\n",
    "  sliderColorDict = {}\n",
    "  left = [Label('display name')]\n",
    "  middle = [Label('description text')]\n",
    "  right = [Label('histogram color')]\n",
    "  colors = distinctipy.get_colors(len(sliderCols),pastel_factor=1)\n",
    "  for i, sliderName in enumerate(sliderCols):\n",
    "    sliderColorDict[sliderName] = widgets.ColorPicker(concise=False,value=distinctipy.get_hex(colors[i]),layout=layoutCol)\n",
    "    right.append(sliderColorDict[sliderName])\n",
    "  sliderInfoDict = {}\n",
    "  for sliderName in sliderCols:\n",
    "    sliderInfoDict[sliderName] = widgets.Text(placeholder=\"info text for slider\",layout=layout)\n",
    "    middle.append(sliderInfoDict[sliderName])\n",
    "  sliderNameDict = {}\n",
    "  for sliderName in sliderCols:\n",
    "    sliderNameDict[sliderName] = widgets.Text(placeholder=\"name of slider\",value=sliderName)\n",
    "    left.append(sliderNameDict[sliderName])\n",
    "  print(\"\\nSlider Settings:\\n\") \n",
    "  idx = VBox([Label('')]+[Label(f\"{n}:\") for n in sliderCols])\n",
    "  left_box = VBox([l for l in left])\n",
    "  middle_box = VBox([m for m in middle])\n",
    "  right_box = VBox([r for r in right])\n",
    "  display(HBox([idx,left_box,middle_box,right_box]))\n",
    "else:\n",
    "  print(\"No Cluster fields selected!\")"
   ]
  },
  {
   "attachments": {},
   "cell_type": "markdown",
   "metadata": {},
   "source": [
    "### (optional) Set Cluster colors\n",
    ">Note: only necessary if categorical data was assigned for clusters"
   ]
  },
  {
   "cell_type": "code",
   "execution_count": 51,
   "metadata": {},
   "outputs": [],
   "source": [
    "from tqdm import tqdm"
   ]
  },
  {
   "cell_type": "code",
   "execution_count": 52,
   "metadata": {},
   "outputs": [
    {
     "data": {
      "application/vnd.jupyter.widget-view+json": {
       "model_id": "166fff3b045f4e54a94b2b024f9cdd97",
       "version_major": 2,
       "version_minor": 0
      },
      "text/plain": [
       "SelectMultiple(description='optional: Cluster data:', index=(1,), layout=Layout(width='600px'), options=('Unna…"
      ]
     },
     "execution_count": 52,
     "metadata": {},
     "output_type": "execute_result"
    }
   ],
   "source": [
    "classColumns"
   ]
  },
  {
   "cell_type": "code",
   "execution_count": 30,
   "metadata": {
    "cellView": "form",
    "id": "lyqTIu-wLjDD"
   },
   "outputs": [
    {
     "ename": "KeyboardInterrupt",
     "evalue": "",
     "output_type": "error",
     "traceback": [
      "\u001b[0;31m---------------------------------------------------------------------------\u001b[0m",
      "\u001b[0;31mKeyboardInterrupt\u001b[0m                         Traceback (most recent call last)",
      "Cell \u001b[0;32mIn[30], line 13\u001b[0m\n\u001b[1;32m     11\u001b[0m length \u001b[38;5;241m=\u001b[39m \u001b[38;5;28mmax\u001b[39m(allClasses\u001b[38;5;241m.\u001b[39mvalues())\n\u001b[1;32m     12\u001b[0m allColors \u001b[38;5;241m=\u001b[39m {}\n\u001b[0;32m---> 13\u001b[0m colors \u001b[38;5;241m=\u001b[39m distinctipy\u001b[38;5;241m.\u001b[39mget_colors(length)\n\u001b[1;32m     14\u001b[0m col \u001b[38;5;241m=\u001b[39m \u001b[38;5;241m5\u001b[39m\n\u001b[1;32m     15\u001b[0m row \u001b[38;5;241m=\u001b[39m math\u001b[38;5;241m.\u001b[39mceil(length\u001b[38;5;241m/\u001b[39mcol)\n",
      "File \u001b[0;32m~/.miniconda/envs/csn/lib/python3.11/site-packages/distinctipy/distinctipy.py:296\u001b[0m, in \u001b[0;36mget_colors\u001b[0;34m(n_colors, exclude_colors, return_excluded, pastel_factor, n_attempts, colorblind_type, rng)\u001b[0m\n\u001b[1;32m    292\u001b[0m colors \u001b[38;5;241m=\u001b[39m exclude_colors\u001b[38;5;241m.\u001b[39mcopy()\n\u001b[1;32m    294\u001b[0m \u001b[38;5;28;01mfor\u001b[39;00m i \u001b[38;5;129;01min\u001b[39;00m \u001b[38;5;28mrange\u001b[39m(n_colors):\n\u001b[1;32m    295\u001b[0m     colors\u001b[38;5;241m.\u001b[39mappend(\n\u001b[0;32m--> 296\u001b[0m         distinct_color(\n\u001b[1;32m    297\u001b[0m             colors,\n\u001b[1;32m    298\u001b[0m             pastel_factor\u001b[38;5;241m=\u001b[39mpastel_factor,\n\u001b[1;32m    299\u001b[0m             n_attempts\u001b[38;5;241m=\u001b[39mn_attempts,\n\u001b[1;32m    300\u001b[0m             colorblind_type\u001b[38;5;241m=\u001b[39mcolorblind_type,\n\u001b[1;32m    301\u001b[0m             rng\u001b[38;5;241m=\u001b[39mrng,\n\u001b[1;32m    302\u001b[0m         )\n\u001b[1;32m    303\u001b[0m     )\n\u001b[1;32m    305\u001b[0m \u001b[38;5;28;01mif\u001b[39;00m return_excluded:\n\u001b[1;32m    306\u001b[0m     \u001b[38;5;28;01mreturn\u001b[39;00m colors\n",
      "File \u001b[0;32m~/.miniconda/envs/csn/lib/python3.11/site-packages/distinctipy/distinctipy.py:206\u001b[0m, in \u001b[0;36mdistinct_color\u001b[0;34m(exclude_colors, pastel_factor, n_attempts, colorblind_type, rng)\u001b[0m\n\u001b[1;32m    202\u001b[0m \u001b[38;5;28;01melse\u001b[39;00m:\n\u001b[1;32m    203\u001b[0m     compare_color \u001b[38;5;241m=\u001b[39m color\n\u001b[1;32m    205\u001b[0m distance_to_nearest \u001b[38;5;241m=\u001b[39m \u001b[38;5;28mmin\u001b[39m(\n\u001b[0;32m--> 206\u001b[0m     [color_distance(compare_color, c) \u001b[38;5;28;01mfor\u001b[39;00m c \u001b[38;5;129;01min\u001b[39;00m exclude_colors]\n\u001b[1;32m    207\u001b[0m )\n\u001b[1;32m    209\u001b[0m \u001b[38;5;28;01mif\u001b[39;00m (\u001b[38;5;129;01mnot\u001b[39;00m max_distance) \u001b[38;5;129;01mor\u001b[39;00m (distance_to_nearest \u001b[38;5;241m>\u001b[39m max_distance):\n\u001b[1;32m    210\u001b[0m     max_distance \u001b[38;5;241m=\u001b[39m distance_to_nearest\n",
      "File \u001b[0;32m~/.miniconda/envs/csn/lib/python3.11/site-packages/distinctipy/distinctipy.py:206\u001b[0m, in \u001b[0;36m<listcomp>\u001b[0;34m(.0)\u001b[0m\n\u001b[1;32m    202\u001b[0m \u001b[38;5;28;01melse\u001b[39;00m:\n\u001b[1;32m    203\u001b[0m     compare_color \u001b[38;5;241m=\u001b[39m color\n\u001b[1;32m    205\u001b[0m distance_to_nearest \u001b[38;5;241m=\u001b[39m \u001b[38;5;28mmin\u001b[39m(\n\u001b[0;32m--> 206\u001b[0m     [color_distance(compare_color, c) \u001b[38;5;28;01mfor\u001b[39;00m c \u001b[38;5;129;01min\u001b[39;00m exclude_colors]\n\u001b[1;32m    207\u001b[0m )\n\u001b[1;32m    209\u001b[0m \u001b[38;5;28;01mif\u001b[39;00m (\u001b[38;5;129;01mnot\u001b[39;00m max_distance) \u001b[38;5;129;01mor\u001b[39;00m (distance_to_nearest \u001b[38;5;241m>\u001b[39m max_distance):\n\u001b[1;32m    210\u001b[0m     max_distance \u001b[38;5;241m=\u001b[39m distance_to_nearest\n",
      "\u001b[0;31mKeyboardInterrupt\u001b[0m: "
     ]
    }
   ],
   "source": [
    "if len(classColumns.value) > 0:\n",
    "  classColorDict = {}\n",
    "  amount = len(classColumns.value)\n",
    "  styleCol = {'description_width': '25px'}\n",
    "  layoutCl = {'width': '135px'}\n",
    "  allClasses = {}\n",
    "  for className in classColumns.value:\n",
    "    clusters = metadata[className].unique()\n",
    "    allClasses[className] = len(clusters)\n",
    "  l = sorted(allClasses.items(), key=lambda item: item[1])[0]\n",
    "  length = max(allClasses.values())\n",
    "  allColors = {}\n",
    "  colors = distinctipy.get_colors(length)\n",
    "  col = 5\n",
    "  row = math.ceil(length/col)\n",
    "  i=0\n",
    "  rows = []\n",
    "  for r in tqdm(range(0,col)):\n",
    "    newRow = []\n",
    "    for c in range(0,row):\n",
    "      # classColorDict[className] = widgets.ColorPicker(concise=True, value=distinctipy.get_hex(colors[i]))\n",
    "      if i < len(colors):\n",
    "        allColors[i] = widgets.ColorPicker(concise=False, description=str(i), value=distinctipy.get_hex(colors[i]),layout=layoutCl,style=styleCol)\n",
    "        newRow.append(allColors[i])\n",
    "        i+=1\n",
    "    rows.append(VBox([nr for nr in newRow]))\n",
    "  display(HBox(rows))\n",
    "else:\n",
    "  allColors = False\n",
    "  print(\"No cluster was selected.\")\n"
   ]
  },
  {
   "attachments": {},
   "cell_type": "markdown",
   "metadata": {},
   "source": [
    "### Create metadata.json\n",
    "Creates and saves the metadata.json file\n",
    ">Note: This step is necessary!\n",
    "\n"
   ]
  },
  {
   "cell_type": "code",
   "execution_count": 53,
   "metadata": {
    "cellView": "form",
    "id": "eDcpx2pwCQYT"
   },
   "outputs": [
    {
     "name": "stdout",
     "output_type": "stream",
     "text": [
      "saved metadata.json\n"
     ]
    }
   ],
   "source": [
    "from CSN_utils import Utils\n",
    "\n",
    "try:\n",
    "  sliderCols\n",
    "except NameError:\n",
    "  sliderCols = list(sliderColumns.value)\n",
    "\n",
    "imageFolder = f'public/datasets/{foldername}/images/'\n",
    "if useExample.value == True:\n",
    "  metadata[\"URL\"] = metadata[filenameColumn.value]\n",
    "else:\n",
    "  metadata[\"URL\"] = f\"{imageFolder}/{metadata[filenameColumn.value]}\"\n",
    "metadataColumns = set(list(infoColumns.value) + sliderCols + list(filterColumns.value) + list(classColumns.value))\n",
    "\n",
    "\n",
    "\n",
    "metadataColumns.add(filenameColumn.value)\n",
    "metadata = metadata[list(metadataColumns)]\n",
    "Utils.write_metadata(foldername, metadata, filenameColumn.value)"
   ]
  },
  {
   "attachments": {},
   "cell_type": "markdown",
   "metadata": {},
   "source": [
    "### Calculate Histograms and create config files\n",
    "The CSN features Range Sliders with interactive histograms. This step calculates the necessary bins and prepares the data to display the histograms."
   ]
  },
  {
   "cell_type": "code",
   "execution_count": 54,
   "metadata": {
    "cellView": "form",
    "id": "nu88VZMUR8Km"
   },
   "outputs": [
    {
     "name": "stdout",
     "output_type": "stream",
     "text": [
      "preparing Slider Bar Historgram data Unnamed: 0\n",
      "preparing Slider Bar Historgram data contrast\n",
      "preparing Slider Bar Historgram data n_colors\n",
      "preparing Slider Bar Historgram data colorfulness\n",
      "preparing Slider Bar Historgram data entropy\n",
      "preparing Slider Bar Historgram data PC1\n",
      "preparing Slider Bar Historgram data PC2\n",
      "saved barData.json\n",
      "saved config.json\n",
      "saved datasets_config.json\n"
     ]
    }
   ],
   "source": [
    "try:\n",
    "    sliderCols\n",
    "except NameError:\n",
    "    sliderCols = list(sliderColumns.value)\n",
    "\n",
    "\n",
    "from CSN_utils import HistogramGenerator, Utils\n",
    "\n",
    "BarChartData = HistogramGenerator(foldername, data=metadata, selection=sliderCols, bucketCount = 50).generate()\n",
    "\n",
    "def save_datasetsJSON():\n",
    "  with open(f'build/datasets/datasets_config.json', \"w\") as fd:\n",
    "    json.dump(datasetsJSON , fd)\n",
    "  print(\"saved datasets_config.json\")\n",
    "\n",
    "def make_default(DEFAULT):\n",
    "  datasetsJSON[\"default\"] = DEFAULT\n",
    "  print(f\"changed default dataset to {datasetsJSON['data'][DEFAULT]['name']}\")\n",
    "  save_datasetsJSON()\n",
    "  \n",
    "\n",
    "sliderSetting = []\n",
    "\n",
    "for k in sliderCols:\n",
    "  dtype = 'float'\n",
    "  if pd.api.types.is_integer_dtype(metadata[k]):\n",
    "    dtype = 'int'\n",
    "  slider = {\"id\":k,\"title\":sliderNameDict[k].value,\"info\":sliderInfoDict[k].value,\"typeNumber\":dtype,\"color\":sliderColorDict[k].value, \"min\":metadata[k].min(),\"max\":metadata[k].max()}\n",
    "  sliderSetting.append(slider)\n",
    "searchFields = []\n",
    "for k in filterColumns.value:\n",
    "  filter = {\"columnField\":k,\"type\":\"selection\"}\n",
    "  searchFields.append(filter)\n",
    "try:\n",
    "    allColors\n",
    "except NameError:\n",
    "    clusters = {\"clusterList\":[],\"clusterColors\":[]}\n",
    "else:\n",
    "    clusters = {\"clusterList\":list(classColumns.value),\"clusterColors\":[allColors[g].value for g in allColors]}\n",
    "\n",
    "    \n",
    "configData = Utils.write_config(directory=foldername, title=datasetTitle.value, description=description.value, mappings=mappings, clusters=clusters, total=len(metadata), sliderSetting=sliderSetting, infoColumns=infoColumns.value, searchFields=searchFields, imageWebLocation=imageWebLocation.value, spriteRows=32, squareSize=2048, spriteSize=64, spriteDir=None)\n",
    "newDataset = {'name': datasetTitle.value, 'directory': foldername}\n",
    "\n",
    "datasetsJSON = {\"default\": 0, \"data\": [newDataset]}\n",
    "save_datasetsJSON()"
   ]
  },
  {
   "attachments": {},
   "cell_type": "markdown",
   "metadata": {
    "id": "GcRP9nmafoc7"
   },
   "source": [
    "----------------"
   ]
  },
  {
   "attachments": {},
   "cell_type": "markdown",
   "metadata": {
    "id": "K5sixPIZr16X"
   },
   "source": [
    "<font size=6> 5) Test and use your custom Collection Space Navigator"
   ]
  },
  {
   "attachments": {},
   "cell_type": "markdown",
   "metadata": {
    "id": "imqkuAZRiRIB"
   },
   "source": [
    "## (optional) Run in localhost\n",
    "\n",
    ">Note: only works locally (not within Colab)\n",
    "\n",
    "To run your CSN version on localhost, unzip your downloaded file, open a terminal, navigate to your CSN directory and run `serve -s build`\n",
    "\n",
    "The CSN should be then accessible at http://localhost:3000 in your browser.\n",
    "\n"
   ]
  },
  {
   "cell_type": "code",
   "execution_count": null,
   "metadata": {},
   "outputs": [
    {
     "name": "stdout",
     "output_type": "stream",
     "text": [
      " * Serving Flask app '__main__'\n",
      " * Debug mode: off\n"
     ]
    },
    {
     "name": "stderr",
     "output_type": "stream",
     "text": [
      "\u001b[31m\u001b[1mWARNING: This is a development server. Do not use it in a production deployment. Use a production WSGI server instead.\u001b[0m\n",
      " * Running on http://127.0.0.1:8000\n",
      "\u001b[33mPress CTRL+C to quit\u001b[0m\n",
      "127.0.0.1 - - [15/Aug/2024 09:53:19] \"GET /?dataset=ChildBookIllz&projection=t-SNE HTTP/1.1\" 200 -\n",
      "127.0.0.1 - - [15/Aug/2024 09:53:19] \"\u001b[36mGET /static/css/main.9fa499eb.chunk.css HTTP/1.1\u001b[0m\" 304 -\n",
      "127.0.0.1 - - [15/Aug/2024 09:53:19] \"\u001b[36mGET /static/js/main.6e2b775a.chunk.js HTTP/1.1\u001b[0m\" 304 -\n",
      "127.0.0.1 - - [15/Aug/2024 09:53:19] \"\u001b[36mGET /static/js/2.29498483.chunk.js HTTP/1.1\u001b[0m\" 304 -\n",
      "127.0.0.1 - - [15/Aug/2024 09:53:19] \"\u001b[36mGET /static/js/2.29498483.chunk.js.map HTTP/1.1\u001b[0m\" 304 -\n",
      "127.0.0.1 - - [15/Aug/2024 09:53:19] \"\u001b[36mGET /static/css/main.9fa499eb.chunk.css.map HTTP/1.1\u001b[0m\" 304 -\n",
      "127.0.0.1 - - [15/Aug/2024 09:53:19] \"GET /datasets/datasets_config.json HTTP/1.1\" 200 -\n",
      "127.0.0.1 - - [15/Aug/2024 09:53:19] \"GET /datasets/childbookillz/barData.json HTTP/1.1\" 200 -\n",
      "127.0.0.1 - - [15/Aug/2024 09:53:19] \"\u001b[36mGET /static/js/main.6e2b775a.chunk.js.map HTTP/1.1\u001b[0m\" 304 -\n",
      "127.0.0.1 - - [15/Aug/2024 09:53:19] \"GET /datasets/childbookillz/config.json HTTP/1.1\" 200 -\n",
      "127.0.0.1 - - [15/Aug/2024 09:53:19] \"GET /datasets/childbookillz/metadata.json HTTP/1.1\" 200 -\n",
      "127.0.0.1 - - [15/Aug/2024 09:53:19] \"GET /datasets/childbookillz/PCA.json HTTP/1.1\" 200 -\n",
      "127.0.0.1 - - [15/Aug/2024 09:53:19] \"GET /datasets/childbookillz/UMAP.json HTTP/1.1\" 200 -\n",
      "127.0.0.1 - - [15/Aug/2024 09:53:19] \"GET /datasets/childbookillz/TSNE.json HTTP/1.1\" 200 -\n",
      "127.0.0.1 - - [15/Aug/2024 09:53:20] \"\u001b[36mGET /manifest.json HTTP/1.1\u001b[0m\" 304 -\n",
      "127.0.0.1 - - [15/Aug/2024 09:53:20] \"GET /favicon.ico HTTP/1.1\" 200 -\n"
     ]
    },
    {
     "name": "stdout",
     "output_type": "stream",
     "text": [
      "files_report3: datasets_config.json\n",
      "files_report3: childbookillz/barData.json\n",
      "files_report3: childbookillz/config.json\n",
      "files_report3: childbookillz/metadata.json\n",
      "files_report3: childbookillz/PCA.json\n",
      "files_report3: childbookillz/UMAP.json\n",
      "files_report3: childbookillz/TSNE.json\n",
      "files_report: favicon.ico\n",
      "files_report: manifest.json\n"
     ]
    },
    {
     "name": "stderr",
     "output_type": "stream",
     "text": [
      "127.0.0.1 - - [15/Aug/2024 09:53:20] \"GET /datasets/childbookillz/tile_3.png HTTP/1.1\" 200 -\n",
      "127.0.0.1 - - [15/Aug/2024 09:53:20] \"GET /datasets/childbookillz/tile_1.png HTTP/1.1\" 200 -\n",
      "127.0.0.1 - - [15/Aug/2024 09:53:20] \"GET /datasets/childbookillz/tile_0.png HTTP/1.1\" 200 -\n",
      "127.0.0.1 - - [15/Aug/2024 09:53:20] \"GET /datasets/childbookillz/tile_2.png HTTP/1.1\" 200 -\n",
      "127.0.0.1 - - [15/Aug/2024 09:53:20] \"GET /datasets/childbookillz/tile_4.png HTTP/1.1\" 200 -\n",
      "127.0.0.1 - - [15/Aug/2024 09:53:20] \"\u001b[36mGET /datasets/childbookillz/tile_0.png HTTP/1.1\u001b[0m\" 304 -\n"
     ]
    },
    {
     "name": "stdout",
     "output_type": "stream",
     "text": [
      "files_report3: childbookillz/tile_3.png\n",
      "files_report3: childbookillz/tile_2.png\n",
      "files_report3: childbookillz/tile_0.png\n",
      "files_report3: childbookillz/tile_1.png\n",
      "files_report3: childbookillz/tile_4.png\n",
      "files_report3: childbookillz/tile_0.png\n"
     ]
    },
    {
     "name": "stderr",
     "output_type": "stream",
     "text": [
      "127.0.0.1 - - [15/Aug/2024 09:53:20] \"\u001b[36mGET /datasets/childbookillz/tile_1.png HTTP/1.1\u001b[0m\" 304 -\n",
      "127.0.0.1 - - [15/Aug/2024 09:53:20] \"\u001b[36mGET /datasets/childbookillz/tile_2.png HTTP/1.1\u001b[0m\" 304 -\n",
      "127.0.0.1 - - [15/Aug/2024 09:53:20] \"\u001b[36mGET /datasets/childbookillz/tile_4.png HTTP/1.1\u001b[0m\" 304 -\n",
      "127.0.0.1 - - [15/Aug/2024 09:53:20] \"\u001b[36mGET /datasets/childbookillz/tile_3.png HTTP/1.1\u001b[0m\" 304 -\n"
     ]
    },
    {
     "name": "stdout",
     "output_type": "stream",
     "text": [
      "files_report3: childbookillz/tile_1.png\n",
      "files_report3: childbookillz/tile_2.png\n",
      "files_report3: childbookillz/tile_4.png\n",
      "files_report3: childbookillz/tile_3.png\n"
     ]
    },
    {
     "name": "stderr",
     "output_type": "stream",
     "text": [
      "127.0.0.1 - - [15/Aug/2024 09:53:21] \"\u001b[33mGET /ChildBookIllu-CSN-5000/images/HT019429141-00000155-0.jpeg HTTP/1.1\u001b[0m\" 404 -\n",
      "127.0.0.1 - - [15/Aug/2024 09:53:22] \"\u001b[33mGET /ChildBookIllu-CSN-5000/images/dbbs-mods-00021851-00000045-0.jpeg HTTP/1.1\u001b[0m\" 404 -\n"
     ]
    },
    {
     "name": "stdout",
     "output_type": "stream",
     "text": [
      "files_report: ChildBookIllu-CSN-5000/images/HT019429141-00000155-0.jpeg\n",
      "files_report: ChildBookIllu-CSN-5000/images/dbbs-mods-00021851-00000045-0.jpeg\n"
     ]
    },
    {
     "name": "stderr",
     "output_type": "stream",
     "text": [
      "127.0.0.1 - - [15/Aug/2024 09:53:22] \"\u001b[33mGET /ChildBookIllu-CSN-5000/images/dbbs-mods-00021851-00000045-0.jpeg HTTP/1.1\u001b[0m\" 404 -\n",
      "127.0.0.1 - - [15/Aug/2024 09:53:22] \"\u001b[33mGET /ChildBookIllu-CSN-5000/images/dbbs-mods-00021984-00000002-1.jpeg HTTP/1.1\u001b[0m\" 404 -\n",
      "127.0.0.1 - - [15/Aug/2024 09:53:22] \"\u001b[33mGET /ChildBookIllu-CSN-5000/images/dbbs-mods-00021984-00000002-1.jpeg HTTP/1.1\u001b[0m\" 404 -\n"
     ]
    },
    {
     "name": "stdout",
     "output_type": "stream",
     "text": [
      "files_report: ChildBookIllu-CSN-5000/images/dbbs-mods-00021851-00000045-0.jpeg\n",
      "files_report: ChildBookIllu-CSN-5000/images/dbbs-mods-00021984-00000002-1.jpeg\n",
      "files_report: ChildBookIllu-CSN-5000/images/dbbs-mods-00021984-00000002-1.jpeg\n"
     ]
    },
    {
     "name": "stderr",
     "output_type": "stream",
     "text": [
      "127.0.0.1 - - [15/Aug/2024 09:53:23] \"\u001b[33mGET /ChildBookIllu-CSN-5000/images/PPN1770763163-00000035-0.jpeg HTTP/1.1\u001b[0m\" 404 -\n",
      "127.0.0.1 - - [15/Aug/2024 09:53:24] \"\u001b[33mGET /ChildBookIllu-CSN-5000/images/dbbs-mods-00000521-00000028-6.jpeg HTTP/1.1\u001b[0m\" 404 -\n"
     ]
    },
    {
     "name": "stdout",
     "output_type": "stream",
     "text": [
      "files_report: ChildBookIllu-CSN-5000/images/PPN1770763163-00000035-0.jpeg\n",
      "files_report: ChildBookIllu-CSN-5000/images/dbbs-mods-00000521-00000028-6.jpeg\n"
     ]
    },
    {
     "name": "stderr",
     "output_type": "stream",
     "text": [
      "127.0.0.1 - - [15/Aug/2024 09:53:24] \"\u001b[33mGET /ChildBookIllu-CSN-5000/images/BV011250368-00000436-1.jpeg HTTP/1.1\u001b[0m\" 404 -\n",
      "127.0.0.1 - - [15/Aug/2024 09:53:24] \"\u001b[33mGET /ChildBookIllu-CSN-5000/images/PPN1815589248-00000095-12.jpeg HTTP/1.1\u001b[0m\" 404 -\n"
     ]
    },
    {
     "name": "stdout",
     "output_type": "stream",
     "text": [
      "files_report: ChildBookIllu-CSN-5000/images/BV011250368-00000436-1.jpeg\n",
      "files_report: ChildBookIllu-CSN-5000/images/PPN1815589248-00000095-12.jpeg\n"
     ]
    },
    {
     "name": "stderr",
     "output_type": "stream",
     "text": [
      "127.0.0.1 - - [15/Aug/2024 09:53:32] \"\u001b[33mGET /ChildBookIllu-CSN-5000/images/BV011168100-00000072-1.jpeg HTTP/1.1\u001b[0m\" 404 -\n"
     ]
    },
    {
     "name": "stdout",
     "output_type": "stream",
     "text": [
      "files_report: ChildBookIllu-CSN-5000/images/BV011168100-00000072-1.jpeg\n"
     ]
    },
    {
     "name": "stderr",
     "output_type": "stream",
     "text": [
      "127.0.0.1 - - [15/Aug/2024 09:53:32] \"\u001b[33mGET /ChildBookIllu-CSN-5000/images/BV010009312-00000027-0.jpeg HTTP/1.1\u001b[0m\" 404 -\n"
     ]
    },
    {
     "name": "stdout",
     "output_type": "stream",
     "text": [
      "files_report: ChildBookIllu-CSN-5000/images/BV010009312-00000027-0.jpeg\n"
     ]
    },
    {
     "name": "stderr",
     "output_type": "stream",
     "text": [
      "127.0.0.1 - - [15/Aug/2024 09:53:32] \"\u001b[33mGET /ChildBookIllu-CSN-5000/images/BV012895576-00000081-0.jpeg HTTP/1.1\u001b[0m\" 404 -\n"
     ]
    },
    {
     "name": "stdout",
     "output_type": "stream",
     "text": [
      "files_report: ChildBookIllu-CSN-5000/images/BV012895576-00000081-0.jpeg\n"
     ]
    },
    {
     "name": "stderr",
     "output_type": "stream",
     "text": [
      "127.0.0.1 - - [15/Aug/2024 09:53:33] \"\u001b[33mGET /ChildBookIllu-CSN-5000/images/PPN1841624780-00000037-0.jpeg HTTP/1.1\u001b[0m\" 404 -\n"
     ]
    },
    {
     "name": "stdout",
     "output_type": "stream",
     "text": [
      "files_report: ChildBookIllu-CSN-5000/images/PPN1841624780-00000037-0.jpeg\n"
     ]
    },
    {
     "name": "stderr",
     "output_type": "stream",
     "text": [
      "127.0.0.1 - - [15/Aug/2024 09:53:38] \"\u001b[33mGET /ChildBookIllu-CSN-5000/images/PPN1852813105-00000018-0.jpeg HTTP/1.1\u001b[0m\" 404 -\n"
     ]
    },
    {
     "name": "stdout",
     "output_type": "stream",
     "text": [
      "files_report: ChildBookIllu-CSN-5000/images/PPN1852813105-00000018-0.jpeg\n"
     ]
    },
    {
     "name": "stderr",
     "output_type": "stream",
     "text": [
      "127.0.0.1 - - [15/Aug/2024 09:53:38] \"\u001b[33mGET /ChildBookIllu-CSN-5000/images/538820896-00000186-0.jpeg HTTP/1.1\u001b[0m\" 404 -\n"
     ]
    },
    {
     "name": "stdout",
     "output_type": "stream",
     "text": [
      "files_report: ChildBookIllu-CSN-5000/images/538820896-00000186-0.jpeg\n"
     ]
    },
    {
     "name": "stderr",
     "output_type": "stream",
     "text": [
      "127.0.0.1 - - [15/Aug/2024 09:53:45] \"\u001b[33mGET /ChildBookIllu-CSN-5000/images/BV011356778-00000570-0.jpeg HTTP/1.1\u001b[0m\" 404 -\n",
      "127.0.0.1 - - [15/Aug/2024 09:53:46] \"\u001b[33mGET /ChildBookIllu-CSN-5000/images/240804473-00000149-0.jpeg HTTP/1.1\u001b[0m\" 404 -\n",
      "127.0.0.1 - - [15/Aug/2024 09:53:46] \"\u001b[33mGET /ChildBookIllu-CSN-5000/images/248153544-00000209-0.jpeg HTTP/1.1\u001b[0m\" 404 -\n"
     ]
    },
    {
     "name": "stdout",
     "output_type": "stream",
     "text": [
      "files_report: ChildBookIllu-CSN-5000/images/BV011356778-00000570-0.jpeg\n",
      "files_report: ChildBookIllu-CSN-5000/images/240804473-00000149-0.jpeg\n",
      "files_report: ChildBookIllu-CSN-5000/images/248153544-00000209-0.jpeg\n"
     ]
    },
    {
     "name": "stderr",
     "output_type": "stream",
     "text": [
      "127.0.0.1 - - [15/Aug/2024 09:53:46] \"\u001b[33mGET /ChildBookIllu-CSN-5000/images/248153544-00000209-0.jpeg HTTP/1.1\u001b[0m\" 404 -\n"
     ]
    },
    {
     "name": "stdout",
     "output_type": "stream",
     "text": [
      "files_report: ChildBookIllu-CSN-5000/images/248153544-00000209-0.jpeg\n"
     ]
    },
    {
     "name": "stderr",
     "output_type": "stream",
     "text": [
      "127.0.0.1 - - [15/Aug/2024 09:53:50] \"\u001b[33mGET /ChildBookIllu-CSN-5000/images/BV010476904-00000054-0.jpeg HTTP/1.1\u001b[0m\" 404 -\n",
      "127.0.0.1 - - [15/Aug/2024 09:53:50] \"\u001b[33mGET /ChildBookIllu-CSN-5000/images/1010745395-00000020-8.jpeg HTTP/1.1\u001b[0m\" 404 -\n"
     ]
    },
    {
     "name": "stdout",
     "output_type": "stream",
     "text": [
      "files_report: ChildBookIllu-CSN-5000/images/BV010476904-00000054-0.jpeg\n",
      "files_report: ChildBookIllu-CSN-5000/images/1010745395-00000020-8.jpeg\n"
     ]
    },
    {
     "name": "stderr",
     "output_type": "stream",
     "text": [
      "127.0.0.1 - - [15/Aug/2024 09:54:00] \"\u001b[33mGET /ChildBookIllu-CSN-5000/images/HT019519999-00000153-0.jpeg HTTP/1.1\u001b[0m\" 404 -\n",
      "127.0.0.1 - - [15/Aug/2024 09:54:00] \"\u001b[33mGET /ChildBookIllu-CSN-5000/images/HT019519999-00000153-0.jpeg HTTP/1.1\u001b[0m\" 404 -\n"
     ]
    },
    {
     "name": "stdout",
     "output_type": "stream",
     "text": [
      "files_report: ChildBookIllu-CSN-5000/images/HT019519999-00000153-0.jpeg\n",
      "files_report: ChildBookIllu-CSN-5000/images/HT019519999-00000153-0.jpeg\n"
     ]
    },
    {
     "name": "stderr",
     "output_type": "stream",
     "text": [
      "127.0.0.1 - - [15/Aug/2024 09:54:12] \"\u001b[33mGET /ChildBookIllu-CSN-5000/images/dbbs-mods-00068825-00000061-0.jpeg HTTP/1.1\u001b[0m\" 404 -\n",
      "127.0.0.1 - - [15/Aug/2024 09:54:12] \"\u001b[33mGET /ChildBookIllu-CSN-5000/images/dbbs-mods-00068825-00000061-0.jpeg HTTP/1.1\u001b[0m\" 404 -\n"
     ]
    },
    {
     "name": "stdout",
     "output_type": "stream",
     "text": [
      "files_report: ChildBookIllu-CSN-5000/images/dbbs-mods-00068825-00000061-0.jpeg\n",
      "files_report: ChildBookIllu-CSN-5000/images/dbbs-mods-00068825-00000061-0.jpeg\n"
     ]
    },
    {
     "name": "stderr",
     "output_type": "stream",
     "text": [
      "127.0.0.1 - - [15/Aug/2024 09:54:12] \"\u001b[33mGET /ChildBookIllu-CSN-5000/images/248153544-00000209-0.jpeg HTTP/1.1\u001b[0m\" 404 -\n",
      "127.0.0.1 - - [15/Aug/2024 09:54:12] \"\u001b[33mGET /ChildBookIllu-CSN-5000/images/248153544-00000209-0.jpeg HTTP/1.1\u001b[0m\" 404 -\n"
     ]
    },
    {
     "name": "stdout",
     "output_type": "stream",
     "text": [
      "files_report: ChildBookIllu-CSN-5000/images/248153544-00000209-0.jpeg\n",
      "files_report: ChildBookIllu-CSN-5000/images/248153544-00000209-0.jpeg\n"
     ]
    },
    {
     "name": "stderr",
     "output_type": "stream",
     "text": [
      "127.0.0.1 - - [15/Aug/2024 09:54:14] \"\u001b[33mGET /ChildBookIllu-CSN-5000/images/dbbs-mods-00066991-00000262-0.jpeg HTTP/1.1\u001b[0m\" 404 -\n",
      "127.0.0.1 - - [15/Aug/2024 09:54:14] \"\u001b[33mGET /ChildBookIllu-CSN-5000/images/dbbs-mods-00066991-00000262-0.jpeg HTTP/1.1\u001b[0m\" 404 -\n"
     ]
    },
    {
     "name": "stdout",
     "output_type": "stream",
     "text": [
      "files_report: ChildBookIllu-CSN-5000/images/dbbs-mods-00066991-00000262-0.jpeg\n",
      "files_report: ChildBookIllu-CSN-5000/images/dbbs-mods-00066991-00000262-0.jpeg\n"
     ]
    },
    {
     "name": "stderr",
     "output_type": "stream",
     "text": [
      "127.0.0.1 - - [15/Aug/2024 09:54:19] \"\u001b[33mGET /ChildBookIllu-CSN-5000/images/BV010655454-00000212-0.jpeg HTTP/1.1\u001b[0m\" 404 -\n",
      "127.0.0.1 - - [15/Aug/2024 09:54:19] \"\u001b[33mGET /ChildBookIllu-CSN-5000/images/BV010655454-00000212-0.jpeg HTTP/1.1\u001b[0m\" 404 -\n"
     ]
    },
    {
     "name": "stdout",
     "output_type": "stream",
     "text": [
      "files_report: ChildBookIllu-CSN-5000/images/BV010655454-00000212-0.jpeg\n",
      "files_report: ChildBookIllu-CSN-5000/images/BV010655454-00000212-0.jpeg\n"
     ]
    },
    {
     "name": "stderr",
     "output_type": "stream",
     "text": [
      "127.0.0.1 - - [15/Aug/2024 09:54:20] \"\u001b[33mGET /ChildBookIllu-CSN-5000/images/BV011622562-00000008-0.jpeg HTTP/1.1\u001b[0m\" 404 -\n",
      "127.0.0.1 - - [15/Aug/2024 09:54:20] \"\u001b[33mGET /ChildBookIllu-CSN-5000/images/BV011622562-00000008-0.jpeg HTTP/1.1\u001b[0m\" 404 -\n"
     ]
    },
    {
     "name": "stdout",
     "output_type": "stream",
     "text": [
      "files_report: ChildBookIllu-CSN-5000/images/BV011622562-00000008-0.jpeg\n",
      "files_report: ChildBookIllu-CSN-5000/images/BV011622562-00000008-0.jpeg\n"
     ]
    },
    {
     "name": "stderr",
     "output_type": "stream",
     "text": [
      "127.0.0.1 - - [15/Aug/2024 09:54:58] \"\u001b[33mGET /ChildBookIllu-CSN-5000/images/1010446037-00000043-0.jpeg HTTP/1.1\u001b[0m\" 404 -\n",
      "127.0.0.1 - - [15/Aug/2024 09:54:58] \"\u001b[33mGET /ChildBookIllu-CSN-5000/images/1010446037-00000043-0.jpeg HTTP/1.1\u001b[0m\" 404 -\n",
      "127.0.0.1 - - [15/Aug/2024 09:54:58] \"\u001b[33mGET /ChildBookIllu-CSN-5000/images/BV010363729-00000211-0.jpeg HTTP/1.1\u001b[0m\" 404 -\n"
     ]
    },
    {
     "name": "stdout",
     "output_type": "stream",
     "text": [
      "files_report: ChildBookIllu-CSN-5000/images/1010446037-00000043-0.jpeg\n",
      "files_report: ChildBookIllu-CSN-5000/images/1010446037-00000043-0.jpeg\n",
      "files_report: ChildBookIllu-CSN-5000/images/BV010363729-00000211-0.jpeg\n"
     ]
    },
    {
     "name": "stderr",
     "output_type": "stream",
     "text": [
      "127.0.0.1 - - [15/Aug/2024 09:54:58] \"\u001b[33mGET /ChildBookIllu-CSN-5000/images/BV010363729-00000211-0.jpeg HTTP/1.1\u001b[0m\" 404 -\n",
      "127.0.0.1 - - [15/Aug/2024 09:54:58] \"\u001b[33mGET /ChildBookIllu-CSN-5000/images/BV010912431-00000068-0.jpeg HTTP/1.1\u001b[0m\" 404 -\n"
     ]
    },
    {
     "name": "stdout",
     "output_type": "stream",
     "text": [
      "files_report: ChildBookIllu-CSN-5000/images/BV010363729-00000211-0.jpeg\n",
      "files_report: ChildBookIllu-CSN-5000/images/BV010912431-00000068-0.jpeg\n"
     ]
    },
    {
     "name": "stderr",
     "output_type": "stream",
     "text": [
      "127.0.0.1 - - [15/Aug/2024 09:54:58] \"\u001b[33mGET /ChildBookIllu-CSN-5000/images/BV010912431-00000068-0.jpeg HTTP/1.1\u001b[0m\" 404 -\n",
      "127.0.0.1 - - [15/Aug/2024 09:54:58] \"\u001b[33mGET /ChildBookIllu-CSN-5000/images/BV013319893-00000066-0.jpeg HTTP/1.1\u001b[0m\" 404 -\n",
      "127.0.0.1 - - [15/Aug/2024 09:54:59] \"\u001b[33mGET /ChildBookIllu-CSN-5000/images/BV013319893-00000066-0.jpeg HTTP/1.1\u001b[0m\" 404 -\n"
     ]
    },
    {
     "name": "stdout",
     "output_type": "stream",
     "text": [
      "files_report: ChildBookIllu-CSN-5000/images/BV010912431-00000068-0.jpeg\n",
      "files_report: ChildBookIllu-CSN-5000/images/BV013319893-00000066-0.jpeg\n",
      "files_report: ChildBookIllu-CSN-5000/images/BV013319893-00000066-0.jpeg\n"
     ]
    }
   ],
   "source": [
    "from flask import Flask, render_template,send_from_directory\n",
    "\n",
    "app = Flask(__name__, static_folder='build/static',template_folder='build/')\n",
    "\n",
    "@app.route('/')\n",
    "def home():\n",
    "    return render_template('index.html')\n",
    "\n",
    "@app.route('/<path:path>')\n",
    "def send_report(path):\n",
    "  # remove the replace in next to lines later later <-- important !!!!!!!!\n",
    "  print(\"files_report:\",path)\n",
    "  if path==\"manifest.json\":\n",
    "      path=\"manifest.json\"\n",
    "  return send_from_directory('build/', str(path))\n",
    "\n",
    "@app.route('/static/<path:path>')\n",
    "def send_report2(path):\n",
    "  # remove the replace in next to lines later later <-- important !!!!!!!!\n",
    "  print(\"files_report2:\",path)\n",
    "  return send_from_directory('build/static/', str(path))\n",
    "\n",
    "@app.route('/datasets/<path:path>')\n",
    "def send_report3(path):\n",
    "  # remove the replace in next to lines later later <-- important !!!!!!!!\n",
    "  print(\"files_report3:\",path)\n",
    "  return send_from_directory('build/datasets/', str(path))\n",
    "\n",
    "if __name__ == \"__main__\":\n",
    "  #app.run(debug=False, port=port)\n",
    "  app.run(debug=False, port=8000)"
   ]
  },
  {
   "cell_type": "code",
   "execution_count": null,
   "metadata": {
    "cellView": "form",
    "id": "XgEk2EG9jXyy"
   },
   "outputs": [],
   "source": [
    "#@title (optional) Run ngrok server\n",
    "ngrok_Authtoken = 'YOUR_NGROK_TOKEN' #@param {type:\"string\"}\n",
    "#@markdown >Note: **This will run until stopped!** Requieres an ngrok account. See: https://ngrok.com/\n",
    "\n",
    "try:\n",
    "  from pyngrok import ngrok\n",
    "  from flask_ngrok import run_with_ngrok\n",
    "  from flask import Flask, render_template,send_from_directory\n",
    "except:\n",
    "  print(\"Installing flask, flask_ngrok and pyngrok via Pip\")\n",
    "  %pip install flask flask_ngrok pyngrok\n",
    "  from flask import Flask, render_template,send_from_directory\n",
    "  from pyngrok import ngrok\n",
    "  from flask_ngrok import run_with_ngrok\n",
    "  \n",
    "app = Flask(__name__,static_folder='/content/CSN/build/',template_folder='/content/CSN/build/')\n",
    "\n",
    "ngrok.set_auth_token(ngrok_Authtoken)\n",
    "run_with_ngrok(app)\n",
    "@app.route('/<path:path>')\n",
    "def send_report(path):\n",
    "  # remove the replace in next to lines later later <-- important !!!!!!!!\n",
    "  print(\"files\",path)\n",
    "  return send_from_directory('/content/CSN/build/', str(path))\n",
    "\n",
    "@app.route('/CSN/static/<path:path>')\n",
    "def send_report2(path):\n",
    "  # remove the replace in next to lines later later <-- important !!!!!!!!\n",
    "  print(\"files\",path)\n",
    "  return send_from_directory('/content/CSN/build/static/', str(path))\n",
    "  \n",
    "@app.route('/CSN/datasets/<path:path>')\n",
    "def send_report3(path):\n",
    "  # remove the replace in next to lines later later <-- important !!!!!!!!\n",
    "  print(\"files\",path)\n",
    "  return send_from_directory('/content/CSN/build/datasets/', str(path))\n",
    "\n",
    "@app.route(\"/\")\n",
    "def home():\n",
    "    return render_template('index.html')\n",
    "    \n",
    "if __name__ == \"__main__\":\n",
    "  app.run()"
   ]
  },
  {
   "attachments": {},
   "cell_type": "markdown",
   "metadata": {
    "id": "1zyht2IFkpWT"
   },
   "source": [
    "### (optional) Use as production web tool\n",
    "\n",
    "We recommend to use GitHub for hosting your custom CSN version and an external server for hosting your image collection. Note that GitHub limits any dataset to 1000 files.\n",
    "\n",
    "To deploy your version as a web tool in GitHub:\n",
    "\n",
    ">Note: Make sure your GitHub branch is called `gh-pages` and has the GitHub Pages option set. See more about GitHub Pages here: https://pages.github.com/\n",
    "\n",
    "1. clone the official CSN repository: https://github.com/Collection-Space-Navigator/CSN  \n",
    "\n",
    "2. install NVM: https://github.com/nvm-sh/nvm    \n",
    "\n",
    "`curl -o- https://raw.githubusercontent.com/nvm-sh/nvm/v0.39.3/install.sh | bash\n",
    "export NVM_DIR=\"$([ -z \"${XDG_CONFIG_HOME-}\" ] && printf %s \"${HOME}/.nvm\" || printf %s \"${XDG_CONFIG_HOME}/nvm\")\"\n",
    "[ -s \"$NVM_DIR/nvm.sh\" ] && \\. \"$NVM_DIR/nvm.sh\" # This loads nvm`  \n",
    "\n",
    "3. install node 16.16.0: by running `nvm install v16.16.0`  \n",
    "\n",
    "4. replace the `CSN/build` folder with your own  \n",
    "\n",
    "5. in `package.json,` change `\"homepage\": \"\"` to your GitHub pages URL (e.g. `\"homepage\": \"https://collection-space-navigator.github.io/CSN\"`)  \n",
    "\n",
    "6. deploy the build folder to your GitHub pages by running `npm run deploy`  \n",
    "\n",
    "\n",
    "For more information and other deployment options, see https://create-react-app.dev/docs/deployment/\n",
    "\n"
   ]
  },
  {
   "cell_type": "code",
   "execution_count": null,
   "metadata": {},
   "outputs": [],
   "source": []
  }
 ],
 "metadata": {
  "colab": {
   "provenance": []
  },
  "kernelspec": {
   "display_name": "Python 3 (ipykernel)",
   "language": "python",
   "name": "python3"
  },
  "language_info": {
   "codemirror_mode": {
    "name": "ipython",
    "version": 3
   },
   "file_extension": ".py",
   "mimetype": "text/x-python",
   "name": "python",
   "nbconvert_exporter": "python",
   "pygments_lexer": "ipython3",
   "version": "3.11.9"
  },
  "vscode": {
   "interpreter": {
    "hash": "894f073ee313a387d8ab0b54a40d2928fe73692ba23550c72584c9df3304ca06"
   }
  }
 },
 "nbformat": 4,
 "nbformat_minor": 4
}
