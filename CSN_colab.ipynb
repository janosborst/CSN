{
 "cells": [
  {
   "cell_type": "markdown",
   "metadata": {
    "id": "SeU25AnsCQYG"
   },
   "source": [
    "<font size=8>  Setting up the Collection Space Navigator\n",
    "\n",
    "In this How-To guide you will produce all necessary files to create a custom version of the Collection Space Navigator (CSN).\n",
    "\n",
    "Project link: https://collection-space-navigator.github.io/\n",
    "\n",
    "> Note: We highly recommend to first get familiar with the example collection before trying your with your own data."
   ]
  },
  {
   "cell_type": "markdown",
   "metadata": {
    "id": "BcWeuOxUCQYI"
   },
   "source": [
    "<font size=6> 1) Prepare Collection Data\n",
    "\n",
    "Loads the dataset and sets up the metadata.\n",
    "\n"
   ]
  },
  {
   "cell_type": "code",
   "execution_count": 1,
   "metadata": {
    "cellView": "form",
    "id": "DFnzOTdddIAH"
   },
   "outputs": [
    {
     "data": {
      "application/vnd.jupyter.widget-view+json": {
       "model_id": "a60b4c33f0e441fb90e7fce0854ef183",
       "version_major": 2,
       "version_minor": 0
      },
      "text/plain": [
       "Button(description='mount Google Drive', icon='check', layout=Layout(width='210px'), style=ButtonStyle())"
      ]
     },
     "metadata": {},
     "output_type": "display_data"
    }
   ],
   "source": [
    "#@title (optional) Mount Google Drive\n",
    "#@markdown >Note: This is not necessary if you work with example data. Mounting Google Drive gives your Colab Notebook instance access to your data, and does not share access with the CSN authors.\n",
    "\n",
    "import ipywidgets as widgets\n",
    "from ipywidgets import interactive,HBox,VBox,Label\n",
    "from IPython.display import display\n",
    "def mount_gdrive(v):\n",
    "    try:\n",
    "      from google.colab import drive\n",
    "      # drive.mount(drive_path,force_remount=False)\n",
    "      buttonGDrive.description=\"mounting...\"\n",
    "      buttonGDrive.disabled=True\n",
    "      drive.mount('/content/gdrive',force_remount=True)\n",
    "      %cd '/content/gdrive/MyDrive'\n",
    "    except:\n",
    "      print(\"...error mounting drive\")\n",
    "      buttonGDrive.description=\"mounting failed!\"\n",
    "    else:\n",
    "      buttonGDrive.description=\"successfully mounted\"\n",
    "\n",
    "layoutButtons = {'width': '210px'}\n",
    "buttonGDrive = widgets.Button(description='mount Google Drive',icon='check',indent=True,layout=layoutButtons)\n",
    "buttonGDrive.on_click(mount_gdrive)\n",
    "\n",
    "display(buttonGDrive)\n"
   ]
  },
  {
   "cell_type": "code",
   "execution_count": 2,
   "metadata": {
    "cellView": "form",
    "id": "w25_J6m4CQYJ"
   },
   "outputs": [
    {
     "name": "stdout",
     "output_type": "stream",
     "text": [
      "fatal: destination path 'CSN' already exists and is not an empty directory.\n"
     ]
    },
    {
     "name": "stderr",
     "output_type": "stream",
     "text": [
      "/home/jborst/.miniconda/envs/csn/lib/python3.11/site-packages/IPython/core/magics/osm.py:417: UserWarning: This is now an optional IPython functionality, setting dhist requires you to install the `pickleshare` library.\n",
      "  self.shell.db['dhist'] = compress_dhist(dhist)[-100:]\n"
     ]
    },
    {
     "name": "stdout",
     "output_type": "stream",
     "text": [
      "/home/jborst/git/CSN/CSN\n"
     ]
    }
   ],
   "source": [
    "#@title Import Libraries\n",
    "#@markdown Downloads the offical CSN repository from https://github.com/Collection-Space-Navigator/CSN and loads all necessary libraries.\n",
    "#@markdown >Note: Optional libraries will be installed only if needed.\n",
    "\n",
    "!git clone https://github.com/Collection-Space-Navigator/CSN\n",
    "%cd CSN\n",
    "\n",
    "import json, math, os, io\n",
    "import pandas as pd\n",
    "import numpy as np\n",
    "import ipywidgets as widgets\n",
    "from ipywidgets import interactive,HBox,VBox,Label\n",
    "from IPython.display import display"
   ]
  },
  {
   "cell_type": "code",
   "execution_count": 3,
   "metadata": {
    "cellView": "form",
    "id": "r6jZRVHhCQYK",
    "scrolled": true,
    "tags": []
   },
   "outputs": [
    {
     "data": {
      "application/vnd.jupyter.widget-view+json": {
       "model_id": "be9c5dee2a1f4d70a54b594e6c32b719",
       "version_major": 2,
       "version_minor": 0
      },
      "text/plain": [
       "HBox(children=(VBox(children=(Text(value='Testset', description='Title:', layout=Layout(width='600px'), placeh…"
      ]
     },
     "metadata": {},
     "output_type": "display_data"
    }
   ],
   "source": [
    "#@title Define INPUT\n",
    "#@markdown >Note: Running this cell opens a dialog in which the input data can be defined. Use the provided example data (recommended first) or your own.\n",
    "\n",
    "style = {'description_width': '250px'}\n",
    "layout = {'width': '600px', 'justify-content': 'lex-satrt'}\n",
    "useExample = widgets.Checkbox(value=True,description='use example data',indent=True)\n",
    "datasetTitle = widgets.Text(placeholder='title of the dataset', description='Title:', style=style, layout=layout, value = \"Testset\")\n",
    "description = widgets.Textarea(placeholder='Short description of the dataset and method(s)', description='Description (optional):', style=style, layout=layout, value=\"\")\n",
    "embeddingsLocation = widgets.Text(placeholder='path to embeddings file (.csv)', description='Embeddings Filepath (optional):', style=style, layout=layout, value = \"CSN/example_data/embeddings_testset.csv\")\n",
    "metadataLocation = widgets.Text(placeholder='path to metadata file (.csv)', description='Metadata Filepath:', style=style, layout=layout, value = \"CSN/example_data/metadata_testset.csv\")\n",
    "imageLocation = widgets.Text(placeholder='path to image collection folder', description='Image Folder:', style=style, layout=layout, value = \"CSN/example_data/testset_images/\")\n",
    "imageWebLocation = widgets.Text(placeholder='URL prefix to public image directory', description='Image URL prefix:',style=style, layout=layout, value =  \"https://github.com/Collection-Space-Navigator/CSN/raw/main/example_data/testset_images/\")\n",
    "\n",
    "if os.path.exists(\"/content/gdrive/MyDrive/\"):\n",
    "    imageLocation.value = \"/content/gdrive/MyDrive/CSN/example_data/testset_images/\"\n",
    "    embeddingsLocation.value = \"/content/gdrive/MyDrive/CSN/example_data/embeddings_testset.csv\"\n",
    "    metadataLocation.value = \"/content/gdrive/MyDrive/CSN/example_data/metadata_testset.csv\"\n",
    "else:\n",
    "    imageLocation.value = \"example_data/testset_images/\"\n",
    "    embeddingsLocation.value = \"example_data/embeddings_testset.csv\"\n",
    "    metadataLocation.value = \"example_data/metadata_testset.csv\"\n",
    "\n",
    "imageWebLocation.value =  \"https://github.com/Collection-Space-Navigator/CSN/raw/main/example_data/testset_images/\"\n",
    "\n",
    "\n",
    "subset = widgets.Checkbox(value=False,description='make subset',indent=True)\n",
    "subsetSize = widgets.BoundedIntText(value=2048,min=10,max=9999999, step=1,description='Subset size:')\n",
    "def makeSubset(SUBSET):\n",
    "    if SUBSET:\n",
    "        display(subsetSize)\n",
    "    else:\n",
    "        subsetSize.value == None\n",
    "i = interactive(makeSubset, SUBSET = subset)\n",
    "left = VBox([datasetTitle, description, embeddingsLocation, metadataLocation, imageLocation, imageWebLocation])\n",
    "right = VBox([useExample, i])\n",
    "display(HBox([left,right]))"
   ]
  },
  {
   "cell_type": "code",
   "execution_count": 4,
   "metadata": {
    "cellView": "form",
    "id": "tHhLCEWOykFu"
   },
   "outputs": [
    {
     "name": "stdout",
     "output_type": "stream",
     "text": [
      "found 1000 files in example_data/testset_images/\n",
      "found 1000 entries in example_data/metadata_testset.csv\n",
      "found 1000 entries in example_data/embeddings_testset.csv\n",
      "Looks ok.\n",
      "\n",
      "Embedding file contains 1000 vectors in 2048 dimensions.\n",
      "Metadata Head:\n",
      "        filename  Prompt  Class  Colorfulness  Colors   Contrast  File Size\n",
      "0    nose_63.png    nose     28         30.89   20051  52.061315      14071\n",
      "1      red_3.png     red     35         68.66   25534  38.299577      13396\n",
      "2    tree_95.png    tree     41         23.57   34112  72.235331      25881\n",
      "3  yellow_58.png  yellow     46         74.99   24665  42.947389      11213\n",
      "4   liver_72.png   liver     22         44.63   30152  46.386029      22760\n",
      "Looks ok.\n",
      "Metadata Head:\n",
      "        filename  Prompt  Class  Colorfulness  Colors   Contrast  File Size\n",
      "0    nose_63.png    nose     28         30.89   20051  52.061315      14071\n",
      "1      red_3.png     red     35         68.66   25534  38.299577      13396\n",
      "2    tree_95.png    tree     41         23.57   34112  72.235331      25881\n",
      "3  yellow_58.png  yellow     46         74.99   24665  42.947389      11213\n",
      "4   liver_72.png   liver     22         44.63   30152  46.386029      22760\n",
      "\n",
      "Creating new dataset directory: build/datasets/testset...\n",
      "... folder already exists (might overwrite existing files)\n"
     ]
    }
   ],
   "source": [
    "#@title Load INPUT files\n",
    "#@markdown Loads and checks all files.\n",
    "\n",
    "\n",
    "imagNumb = len(os.listdir(imageLocation.value))\n",
    "print(f'found {imagNumb} files in {imageLocation.value}')\n",
    "mappings = []\n",
    "\n",
    "metadata = pd.read_csv(metadataLocation.value, skipinitialspace=True)\n",
    "if subset.value:\n",
    "    metadata = metadata[:subsetSize.value]\n",
    "metaNumb = len(metadata)\n",
    "print(f'found {metaNumb} entries in {metadataLocation.value}')\n",
    "\n",
    "if embeddingsLocation.value != \"\":\n",
    "  embeddings = pd.read_csv(embeddingsLocation.value, skipinitialspace=True)\n",
    "  embeddings = embeddings.loc[:, embeddings.columns!='id']\n",
    "  embeddings = embeddings.loc[:, embeddings.columns!='ID']\n",
    "  if subset.value:\n",
    "    embeddings = embeddings[:subsetSize.value]\n",
    "  vecNumb = len(embeddings)\n",
    "  print(f'found {vecNumb} entries in {embeddingsLocation.value}')\n",
    "\n",
    "  if metaNumb == vecNumb:\n",
    "    if vecNumb <= imagNumb:\n",
    "      print(\"Looks ok.\")\n",
    "      print()\n",
    "      print(f'Embedding file contains {vecNumb} vectors in {len(embeddings.columns)} dimensions.')\n",
    "      print(\"Metadata Head:\")\n",
    "      print(metadata.head())\n",
    "    else:\n",
    "      print()\n",
    "      print(\"ERROR: number of images is smaller than number of vectors\")\n",
    "\n",
    "if metaNumb <= imagNumb:\n",
    "  print(\"Looks ok.\")\n",
    "  print(\"Metadata Head:\")\n",
    "  print(metadata.head())\n",
    "else:\n",
    "  print()\n",
    "  print(\"ERROR: number of images and metadata elements don't match!\")\n",
    "foldername = datasetTitle.value.lower().replace(\" \",\"_\")\n",
    "print()\n",
    "print(f'Creating new dataset directory: build/datasets/{foldername}...')\n",
    "if not os.path.exists(f\"build/datasets/{foldername}\"):\n",
    "    os.makedirs(f\"build/datasets/{foldername}\")\n",
    "    print(\"... success\")\n",
    "else:\n",
    "    print(\"... folder already exists (might overwrite existing files)\")"
   ]
  },
  {
   "cell_type": "code",
   "execution_count": 5,
   "metadata": {
    "cellView": "form",
    "id": "AtOUyvwapOfx"
   },
   "outputs": [
    {
     "data": {
      "application/vnd.jupyter.widget-view+json": {
       "model_id": "1876d9a8479141aaa9d9f9037a294a34",
       "version_major": 2,
       "version_minor": 0
      },
      "text/plain": [
       "HBox(children=(VBox(children=(Dropdown(description='Image filenames (JPG or PNG):', layout=Layout(width='600px…"
      ]
     },
     "metadata": {},
     "output_type": "display_data"
    }
   ],
   "source": [
    "#@title Assign metadata fields\n",
    "#@markdown Choose which field names in the metadata file should be used.\n",
    "#@markdown >Note: Select multiple values using shift+ctrl+mouseclick, shift+command+mouseclick, or shift+arrow keys.\n",
    "\n",
    "filenameColumn = widgets.Dropdown(description=\"Image filenames (JPG or PNG):\",options=[mf for mf in metadata.columns if pd.api.types.is_string_dtype(metadata[mf]) and metadata[mf].str.endswith((\".jpg\",\".JPEG\",\"JPG\",\".jpeg\",\".png\",\".PNG\")).all()], style=style, layout=layout)\n",
    "classColumns = widgets.SelectMultiple(options=[mf for mf in metadata.columns if mf != \"index\"],description='optional: Cluster data:', style=style, layout=layout)\n",
    "infoColumns = widgets.SelectMultiple(options=[mf for mf in metadata.columns if mf != \"index\"],description='Info fields (display in preview):', style=style, layout=layout)\n",
    "sliderColumns = widgets.SelectMultiple(options=[mf for mf in metadata.columns if pd.api.types.is_numeric_dtype(metadata[mf]) and mf != \"index\"],description='Slider data (floats or integers):', style=style, layout=layout)\n",
    "filterColumns = widgets.SelectMultiple(options=[mf for mf in metadata.columns if pd.api.types.is_string_dtype(metadata[mf]) and mf != 'URL'],description='optional: Filter & Search fields (string):', style=style, layout=layout)\n",
    "if useExample.value == True:\n",
    "  infoColumns.value = (\"Prompt\", \"Colors\", \"Contrast\", \"File Size\")\n",
    "  sliderColumns.value = (\"Colorfulness\", \"Colors\", \"Contrast\", \"File Size\")\n",
    "  filterColumns.value = (\"Prompt\",)\n",
    "  classColumns.value = (\"Class\",)\n",
    "left = VBox([filenameColumn, infoColumns, sliderColumns])\n",
    "right = VBox([filterColumns, classColumns])\n",
    "display(HBox([left,right]))"
   ]
  },
  {
   "cell_type": "markdown",
   "metadata": {
    "id": "IJ29FLXmpIKT"
   },
   "source": [
    "----------------"
   ]
  },
  {
   "cell_type": "markdown",
   "metadata": {
    "id": "4OHuwVEJlZFj"
   },
   "source": [
    "<font size=6> 2) Prepare Image Data\n",
    "\n",
    "To handle large amounts of images efficiently, the CSN uses sprite sheets with multiple thumbnails behind the scenes. These sprite-sheets need to be generated."
   ]
  },
  {
   "cell_type": "code",
   "execution_count": 6,
   "metadata": {
    "cellView": "form",
    "id": "pBSPbVtXCQYU"
   },
   "outputs": [
    {
     "name": "stderr",
     "output_type": "stream",
     "text": [
      "Generating sprites: 100%|████████████████████████████████| 1/1 [00:03<00:00,  3.76s/it]\n"
     ]
    }
   ],
   "source": [
    "#@title Generate sprite sheets\n",
    "#@markdown >Note: only needed for new datasets or to update existing tiles (skip this part if you already generated them)\n",
    "\n",
    "from CSN_utils import ImageSpriteGenerator\n",
    "\n",
    "# generate sprite sheets\n",
    "sprite_generator = ImageSpriteGenerator(foldername, spriteSize=2048, spriteRows=32, imageFolder=imageLocation.value, files=metadata[filenameColumn.value]).generate()"
   ]
  },
  {
   "cell_type": "markdown",
   "metadata": {
    "id": "LEcBm-pm6KPn"
   },
   "source": [
    "<font size=6> 2b) Feature Extraction (optional)\n",
    "\n",
    "Run simple image feature extraction method using a pretrained Convolutionial Neural Network (CNN).\n",
    ">Note: This can take a while depending on your hardware setup and size of image dataset..."
   ]
  },
  {
   "cell_type": "code",
   "execution_count": 7,
   "metadata": {
    "cellView": "form",
    "id": "LJwVtcj66KPo"
   },
   "outputs": [
    {
     "name": "stderr",
     "output_type": "stream",
     "text": [
      "2024-07-15 12:55:17.851340: E external/local_xla/xla/stream_executor/cuda/cuda_fft.cc:485] Unable to register cuFFT factory: Attempting to register factory for plugin cuFFT when one has already been registered\n",
      "2024-07-15 12:55:17.864659: E external/local_xla/xla/stream_executor/cuda/cuda_dnn.cc:8454] Unable to register cuDNN factory: Attempting to register factory for plugin cuDNN when one has already been registered\n",
      "2024-07-15 12:55:17.868190: E external/local_xla/xla/stream_executor/cuda/cuda_blas.cc:1452] Unable to register cuBLAS factory: Attempting to register factory for plugin cuBLAS when one has already been registered\n",
      "2024-07-15 12:55:17.876759: I tensorflow/core/platform/cpu_feature_guard.cc:210] This TensorFlow binary is optimized to use available CPU instructions in performance-critical operations.\n",
      "To enable the following instructions: AVX2 FMA, in other operations, rebuild TensorFlow with the appropriate compiler flags.\n",
      "2024-07-15 12:55:18.507130: W tensorflow/compiler/tf2tensorrt/utils/py_utils.cc:38] TF-TRT Warning: Could not find TensorRT\n"
     ]
    }
   ],
   "source": [
    "#@title Import libraries\n",
    "\n",
    "try:\n",
    "    from tensorflow.keras import applications, models, Model\n",
    "    from tensorflow.keras.applications.resnet50 import preprocess_input\n",
    "    from tensorflow.keras.preprocessing import image\n",
    "except:\n",
    "    print(\"Installing tensorflow via Pip\")\n",
    "    %pip install flask tensorflow\n",
    "    from tensorflow.keras import applications, models, Model\n",
    "    from tensorflow.keras.applications.resnet50 import preprocess_input\n",
    "    from tensorflow.keras.preprocessing import image\n",
    "try:\n",
    "    from PIL import ImageFile\n",
    "except:\n",
    "    print(\"Installing Pillow via Pip\")\n",
    "    %pip install pillow\n",
    "\n",
    "from feature_extraction import extract_features\n",
    "\n",
    "ImageFile.LOAD_TRUNCATED_IMAGES = True"
   ]
  },
  {
   "cell_type": "code",
   "execution_count": 8,
   "metadata": {
    "cellView": "form",
    "id": "0hmImj3X6KPo"
   },
   "outputs": [],
   "source": [
    "#@title Perform feature extraction\n",
    "#@markdown Runs the extraction method with the chosen model and saves the embeddings as a CSV file\n",
    "#@markdown >Note: This will overwrite the Embeddings Filepath value from earlier (see 1. 'Define Input')\n",
    "#@markdown Learn more about the pretrained models: https://keras.io/api/applications/\n",
    "model = 'ResNet50' #@param {type:\"string\"}\n",
    "#@markdown options: ResNet50, Xception, VGG16, VGG19, InceptionV3, MobileNet\n",
    "\n",
    "#files = [f'{imageLocation.value}/{file}' for file in metadata[filenameColumn.value]]\n",
    "#features = extract_features(files, model=model)\n",
    "#df = pd.DataFrame(features[0])\n",
    "#embeddings = df # overwrites the Input\n",
    "\n",
    "# # save embeddings in csv file\n",
    "# df_2 = pd.DataFrame(features[0])\n",
    "# df_2[\"id\"] = features[1]\n",
    "# em_filename = f\"subset_embeddings_{model}.csv\"\n",
    "# df_2.to_csv(em_filename, index=False)"
   ]
  },
  {
   "cell_type": "markdown",
   "metadata": {
    "id": "qUD79KzapGlx"
   },
   "source": [
    "----------------"
   ]
  },
  {
   "cell_type": "markdown",
   "metadata": {
    "id": "qvsa4czdCQYV"
   },
   "source": [
    "<font size=6> 3) Generate Mappings\n",
    "\n",
    "Mappings are plots containing 2D coordinates (x,y) of the image objects.\n",
    "\n",
    "Here are several methods you can run. The Collection Space Navigator can handle many mappings but needs at least one to work."
   ]
  },
  {
   "cell_type": "markdown",
   "metadata": {
    "id": "LsI4HATziR69"
   },
   "source": [
    "<font size=5> 3.1 From metadata (optional)"
   ]
  },
  {
   "cell_type": "code",
   "execution_count": 9,
   "metadata": {
    "cellView": "form",
    "id": "9sg3a8k_CQYY"
   },
   "outputs": [
    {
     "data": {
      "application/vnd.jupyter.widget-view+json": {
       "model_id": "9cef2675407d41ac943a50bae3450a59",
       "version_major": 2,
       "version_minor": 0
      },
      "text/plain": [
       "HBox(children=(VBox(children=(Dropdown(description='x-axis:', layout=Layout(width='600px'), options=('Class', …"
      ]
     },
     "execution_count": 9,
     "metadata": {},
     "output_type": "execute_result"
    }
   ],
   "source": [
    "#@title (optional) Create 2D plots\n",
    "#@markdown Choose 2 metadadata fields (float or integer) and click \"make plot\". Repeat for every combination you want to add.\n",
    "#@markdown >Note: Running this step opens a dialog in which you can chose X and Y dimensions from the available data and create additional 2D plots\n",
    "\n",
    "from CSN_utils import SimplePlot\n",
    "\n",
    "def plot(v):\n",
    "    result = SimplePlot(foldername,A=AColumn.value, B=BColumn.value, metadata=metadata)\n",
    "    filename = (AColumn.value + \"_\" + BColumn.value).replace(\" \",\"\")\n",
    "    mappings.append({\"name\": filename, \"file\": f\"{filename}.json\"})\n",
    "\n",
    "AColumn = widgets.Dropdown(description=\"x-axis:\",options=[mf for mf in metadata.columns if pd.api.types.is_numeric_dtype(metadata[mf]) and mf != \"index\"], style=style, layout=layout)\n",
    "BColumn = widgets.Dropdown(description=\"y-axis:\",options=[mf for mf in metadata.columns if pd.api.types.is_numeric_dtype(metadata[mf]) and mf != \"index\"], style=style, layout=layout)\n",
    "button2DPlot = widgets.Button(description='make plot',icon='check')\n",
    "button2DPlot.on_click(plot)\n",
    "left = VBox([AColumn,BColumn])\n",
    "right = VBox([button2DPlot])\n",
    "HBox([left,right])"
   ]
  },
  {
   "cell_type": "markdown",
   "metadata": {
    "id": "TdAkDgquhU73"
   },
   "source": [
    "<font size=5> 3.2 From embeddings (optional)"
   ]
  },
  {
   "cell_type": "code",
   "execution_count": 10,
   "metadata": {
    "cellView": "form",
    "id": "IBwRz1RYnpUr"
   },
   "outputs": [
    {
     "name": "stdout",
     "output_type": "stream",
     "text": [
      "Performing PCA...\n",
      "...done\n",
      "saved PCA.json\n",
      "... added PC1 to metadata\n",
      "... added PC2 to metadata\n"
     ]
    }
   ],
   "source": [
    "#@title (optional) Run Principal Component Analysis (PCA)\n",
    "components = 2 #@param {type:\"number\"}\n",
    "add_slider = True #@param {type:\"boolean\"}\n",
    "#@markdown >See PCA documentation: https://scikit-learn.org/stable/modules/generated/sklearn.decomposition.eA.html\n",
    "\n",
    "\n",
    "from CSN_utils import PCAGenerator\n",
    "\n",
    "PCAEembedding = PCAGenerator(foldername, scale=True, data=embeddings.values, components=components).generate()\n",
    "mappings.append({\"name\": \"PCA\", \"file\": \"PCA.json\"})\n",
    "\n",
    "# add columns to metadata for each component\n",
    "for i in range(components):\n",
    "  metadata[f\"PC{i+1}\"] = PCAEembedding[:,i]\n",
    "  print(f\"... added PC{i+1} to metadata\")\n",
    "\n",
    "# add slider for each component\n",
    "if add_slider:\n",
    "  sliderCols = list(sliderColumns.value)\n",
    "  for i in range(components):\n",
    "    sliderCols.append(f\"PC{i+1}\")"
   ]
  },
  {
   "cell_type": "code",
   "execution_count": 11,
   "metadata": {
    "cellView": "form",
    "id": "GrJqZPjYCQYW"
   },
   "outputs": [
    {
     "name": "stdout",
     "output_type": "stream",
     "text": [
      "Installing UMAP via Pip\n",
      "Collecting umap-learn\n",
      "  Using cached umap_learn-0.5.6-py3-none-any.whl.metadata (21 kB)\n",
      "Requirement already satisfied: numpy>=1.17 in /home/jborst/.miniconda/envs/csn/lib/python3.11/site-packages (from umap-learn) (1.26.4)\n",
      "Requirement already satisfied: scipy>=1.3.1 in /home/jborst/.miniconda/envs/csn/lib/python3.11/site-packages (from umap-learn) (1.13.1)\n",
      "Requirement already satisfied: scikit-learn>=0.22 in /home/jborst/.miniconda/envs/csn/lib/python3.11/site-packages (from umap-learn) (1.5.1)\n",
      "Collecting numba>=0.51.2 (from umap-learn)\n",
      "  Downloading numba-0.60.0-cp311-cp311-manylinux2014_x86_64.manylinux_2_17_x86_64.whl.metadata (2.7 kB)\n",
      "Collecting pynndescent>=0.5 (from umap-learn)\n",
      "  Downloading pynndescent-0.5.13-py3-none-any.whl.metadata (6.8 kB)\n",
      "Requirement already satisfied: tqdm in /home/jborst/.miniconda/envs/csn/lib/python3.11/site-packages (from umap-learn) (4.66.4)\n",
      "Collecting llvmlite<0.44,>=0.43.0dev0 (from numba>=0.51.2->umap-learn)\n",
      "  Downloading llvmlite-0.43.0-cp311-cp311-manylinux_2_17_x86_64.manylinux2014_x86_64.whl.metadata (4.8 kB)\n",
      "Requirement already satisfied: joblib>=0.11 in /home/jborst/.miniconda/envs/csn/lib/python3.11/site-packages (from pynndescent>=0.5->umap-learn) (1.4.2)\n",
      "Requirement already satisfied: threadpoolctl>=3.1.0 in /home/jborst/.miniconda/envs/csn/lib/python3.11/site-packages (from scikit-learn>=0.22->umap-learn) (3.5.0)\n",
      "Using cached umap_learn-0.5.6-py3-none-any.whl (85 kB)\n",
      "Downloading numba-0.60.0-cp311-cp311-manylinux2014_x86_64.manylinux_2_17_x86_64.whl (3.7 MB)\n",
      "\u001b[2K   \u001b[90m━━━━━━━━━━━━━━━━━━━━━━━━━━━━━━━━━━━━━━━━\u001b[0m \u001b[32m3.7/3.7 MB\u001b[0m \u001b[31m37.0 MB/s\u001b[0m eta \u001b[36m0:00:00\u001b[0ma \u001b[36m0:00:01\u001b[0m\n",
      "\u001b[?25hDownloading pynndescent-0.5.13-py3-none-any.whl (56 kB)\n",
      "\u001b[2K   \u001b[90m━━━━━━━━━━━━━━━━━━━━━━━━━━━━━━━━━━━━━━━━\u001b[0m \u001b[32m56.9/56.9 kB\u001b[0m \u001b[31m6.2 MB/s\u001b[0m eta \u001b[36m0:00:00\u001b[0m\n",
      "\u001b[?25hDownloading llvmlite-0.43.0-cp311-cp311-manylinux_2_17_x86_64.manylinux2014_x86_64.whl (43.9 MB)\n",
      "\u001b[2K   \u001b[90m━━━━━━━━━━━━━━━━━━━━━━━━━━━━━━━━━━━━━━━━\u001b[0m \u001b[32m43.9/43.9 MB\u001b[0m \u001b[31m72.0 MB/s\u001b[0m eta \u001b[36m0:00:00\u001b[0m:00:01\u001b[0m00:01\u001b[0m\n",
      "\u001b[?25hInstalling collected packages: llvmlite, numba, pynndescent, umap-learn\n",
      "Successfully installed llvmlite-0.43.0 numba-0.60.0 pynndescent-0.5.13 umap-learn-0.5.6\n",
      "Note: you may need to restart the kernel to use updated packages.\n",
      "Generating UMAP...\n",
      "UMAP(angular_rp_forest=True, metric='correlation', min_dist=0.18, verbose=True)\n",
      "Mon Jul 15 12:55:32 2024 Construct fuzzy simplicial set\n",
      "Mon Jul 15 12:55:35 2024 Finding Nearest Neighbors\n",
      "Mon Jul 15 12:55:37 2024 Finished Nearest Neighbor Search\n",
      "Mon Jul 15 12:55:39 2024 Construct embedding\n"
     ]
    },
    {
     "data": {
      "application/vnd.jupyter.widget-view+json": {
       "model_id": "e8e2f17ddb3946cda0f4aef09487446d",
       "version_major": 2,
       "version_minor": 0
      },
      "text/plain": [
       "Epochs completed:   0%|            0/500 [00:00]"
      ]
     },
     "metadata": {},
     "output_type": "display_data"
    },
    {
     "name": "stdout",
     "output_type": "stream",
     "text": [
      "\tcompleted  0  /  500 epochs\n",
      "\tcompleted  50  /  500 epochs\n",
      "\tcompleted  100  /  500 epochs\n",
      "\tcompleted  150  /  500 epochs\n",
      "\tcompleted  200  /  500 epochs\n",
      "\tcompleted  250  /  500 epochs\n",
      "\tcompleted  300  /  500 epochs\n",
      "\tcompleted  350  /  500 epochs\n",
      "\tcompleted  400  /  500 epochs\n",
      "\tcompleted  450  /  500 epochs\n",
      "Mon Jul 15 12:55:42 2024 Finished embedding\n",
      "...done\n",
      "saved UMAP.json\n"
     ]
    }
   ],
   "source": [
    "#@title (optional) Run UMAP: Uniform Manifold Approximation and Projection for Dimension Reduction\n",
    "n_neighbors=15 #@param {type:\"number\"}\n",
    "min_dist=0.18 #@param {type:\"number\"}\n",
    "metric=\"correlation\" #@param {type:\"string\"}\n",
    "verbose=True #@param {type:\"boolean\"}\n",
    "#@markdown >See UMAP documentation: https://umap-learn.readthedocs.io/en/latest/\n",
    "\n",
    "try:\n",
    "    import umap\n",
    "except:\n",
    "    print(\"Installing UMAP via Pip\")\n",
    "    %pip install umap-learn\n",
    "\n",
    "from CSN_utils import UMAPGenerator\n",
    "\n",
    "fullEmbeddings = UMAPGenerator(foldername, data=embeddings.values, n_neighbors=n_neighbors, min_dist=min_dist, metric=metric, verbose=verbose).generate()\n",
    "mappings.append({\"name\": \"UMAP\", \"file\": \"UMAP.json\"})\n"
   ]
  },
  {
   "cell_type": "code",
   "execution_count": 12,
   "metadata": {
    "cellView": "form",
    "id": "0NlqxmzVCQYX"
   },
   "outputs": [
    {
     "name": "stdout",
     "output_type": "stream",
     "text": [
      "Generating t-SNE...\n",
      "[t-SNE] Computing 91 nearest neighbors...\n",
      "[t-SNE] Indexed 1000 samples in 0.005s...\n",
      "[t-SNE] Computed neighbors for 1000 samples in 0.179s...\n",
      "[t-SNE] Computed conditional probabilities for sample 1000 / 1000\n",
      "[t-SNE] Mean sigma: 14.950695\n",
      "[t-SNE] KL divergence after 250 iterations with early exaggeration: 67.204491\n",
      "[t-SNE] KL divergence after 1000 iterations: 1.208382\n",
      "...done\n",
      "saved TSNE.json\n"
     ]
    }
   ],
   "source": [
    "#@title (optional) Run t-SNE: t-distributed Stochastic Neighbor Embedding\n",
    "n_components = 2 #@param {type:\"number\"}\n",
    "verbose = 1 #@param {type:\"number\"}\n",
    "random_state = 123 #@param {type:\"number\"}\n",
    "#@markdown >See t-SNE documentation: https://scikit-learn.org/stable/modules/generated/sklearn.manifold.TSNE.html\n",
    "\n",
    "from CSN_utils import TSNEGenerator\n",
    "\n",
    "tsneEembedding = TSNEGenerator(foldername, data=embeddings.values, n_components=n_components, verbose=verbose, random_state=random_state).generate()\n",
    "mappings.append({\"name\": \"t-SNE\", \"file\": \"TSNE.json\"})\n"
   ]
  },
  {
   "cell_type": "code",
   "execution_count": 13,
   "metadata": {
    "cellView": "form",
    "id": "f5_ucbG2i_te"
   },
   "outputs": [
    {
     "data": {
      "application/vnd.jupyter.widget-view+json": {
       "model_id": "965ea874c45d485bad1640b54504242c",
       "version_major": 2,
       "version_minor": 0
      },
      "text/plain": [
       "HBox(children=(VBox(children=(Dropdown(description='x-axis:', layout=Layout(width='600px'), options=('Class', …"
      ]
     },
     "execution_count": 13,
     "metadata": {},
     "output_type": "execute_result"
    }
   ],
   "source": [
    "#@title (optional) Create 2D plots\n",
    "#@markdown Choose 2 metadadata fields (float or integer) and click \"make plot\". Repeat for every combination you want to add.\n",
    "#@markdown >Note: Running this step opens a dialog in which you can chose X and Y dimensions from the available data and create additional 2D plots\n",
    "\n",
    "from CSN_utils import SimplePlot\n",
    "\n",
    "def plot(v):\n",
    "    result = SimplePlot(foldername,A=AColumn.value, B=BColumn.value, metadata=metadata)\n",
    "    filename = (AColumn.value + \"_\" + BColumn.value).replace(\" \",\"\")\n",
    "    mappings.append({\"name\": filename, \"file\": f\"{filename}.json\"})\n",
    "\n",
    "AColumn = widgets.Dropdown(description=\"x-axis:\",options=[mf for mf in metadata.columns if pd.api.types.is_numeric_dtype(metadata[mf]) and mf != \"index\"], style=style, layout=layout)\n",
    "BColumn = widgets.Dropdown(description=\"y-axis:\",options=[mf for mf in metadata.columns if pd.api.types.is_numeric_dtype(metadata[mf]) and mf != \"index\"], style=style, layout=layout)\n",
    "button2DPlot = widgets.Button(description='make plot',icon='check')\n",
    "button2DPlot.on_click(plot)\n",
    "left = VBox([AColumn,BColumn])\n",
    "right = VBox([button2DPlot])\n",
    "HBox([left,right])"
   ]
  },
  {
   "cell_type": "markdown",
   "metadata": {
    "id": "MedpdOTQpEoA"
   },
   "source": [
    "----------------"
   ]
  },
  {
   "cell_type": "markdown",
   "metadata": {
    "id": "e7r2I7QzCQYa"
   },
   "source": [
    "<font size=6> 4) Create Config Files\n",
    "\n",
    "All customization and component settings are defined in the config files."
   ]
  },
  {
   "cell_type": "code",
   "execution_count": 14,
   "metadata": {
    "cellView": "form",
    "id": "YoSHLl1gCT8H"
   },
   "outputs": [
    {
     "name": "stdout",
     "output_type": "stream",
     "text": [
      "Installing distinctipy via Pip\n",
      "\n",
      "Slider Settings:\n",
      "\n"
     ]
    },
    {
     "data": {
      "application/vnd.jupyter.widget-view+json": {
       "model_id": "54b37ff43f5f429cb269b867f76b5eb7",
       "version_major": 2,
       "version_minor": 0
      },
      "text/plain": [
       "HBox(children=(VBox(children=(Label(value=''), Label(value='Colorfulness:'), Label(value='Colors:'), Label(val…"
      ]
     },
     "metadata": {},
     "output_type": "display_data"
    }
   ],
   "source": [
    "#@title Set Sliders\n",
    "#@markdown Set the appearance of the range slider elements and histograms.\n",
    "\n",
    "try:\n",
    "  import distinctipy\n",
    "except:\n",
    "  print(\"Installing distinctipy via Pip\")\n",
    "  !pip install distinctipy --quiet\n",
    "  import distinctipy\n",
    "\n",
    "# check if sliderCols exists\n",
    "try:\n",
    "  sliderCols\n",
    "except NameError:\n",
    "  sliderCols = list(sliderColumns.value)\n",
    "\n",
    "if len(sliderCols) > 0:\n",
    "  layoutCol = {'width': '110px'}\n",
    "  sliderColorDict = {}\n",
    "  left = [Label('display name')]\n",
    "  middle = [Label('description text')]\n",
    "  right = [Label('histogram color')]\n",
    "  colors = distinctipy.get_colors(len(sliderCols),pastel_factor=1)\n",
    "  for i, sliderName in enumerate(sliderCols):\n",
    "    sliderColorDict[sliderName] = widgets.ColorPicker(concise=False,value=distinctipy.get_hex(colors[i]),layout=layoutCol)\n",
    "    right.append(sliderColorDict[sliderName])\n",
    "  sliderInfoDict = {}\n",
    "  for sliderName in sliderCols:\n",
    "    sliderInfoDict[sliderName] = widgets.Text(placeholder=\"info text for slider\",layout=layout)\n",
    "    middle.append(sliderInfoDict[sliderName])\n",
    "  sliderNameDict = {}\n",
    "  for sliderName in sliderCols:\n",
    "    sliderNameDict[sliderName] = widgets.Text(placeholder=\"name of slider\",value=sliderName)\n",
    "    left.append(sliderNameDict[sliderName])\n",
    "  print(\"\\nSlider Settings:\\n\")\n",
    "  idx = VBox([Label('')]+[Label(f\"{n}:\") for n in sliderCols])\n",
    "  left_box = VBox([l for l in left])\n",
    "  middle_box = VBox([m for m in middle])\n",
    "  right_box = VBox([r for r in right])\n",
    "  display(HBox([idx,left_box,middle_box,right_box]))\n",
    "else:\n",
    "  print(\"No Cluster fields selected!\")"
   ]
  },
  {
   "cell_type": "code",
   "execution_count": 15,
   "metadata": {
    "cellView": "form",
    "id": "lyqTIu-wLjDD"
   },
   "outputs": [
    {
     "data": {
      "application/vnd.jupyter.widget-view+json": {
       "model_id": "3ddf2108f1164f2b85e8f610097de1d5",
       "version_major": 2,
       "version_minor": 0
      },
      "text/plain": [
       "HBox(children=(VBox(children=(ColorPicker(value='#00ff00', description='0', layout=Layout(width='135px'), styl…"
      ]
     },
     "metadata": {},
     "output_type": "display_data"
    }
   ],
   "source": [
    "#@title (optional) Set Cluster colors\n",
    "#@markdown >Note: only necessary if categorical data was assigned for clusters\n",
    "\n",
    "if len(classColumns.value) > 0:\n",
    "  classColorDict = {}\n",
    "  amount = len(classColumns.value)\n",
    "  styleCol = {'description_width': '25px'}\n",
    "  layoutCl = {'width': '135px'}\n",
    "  allClasses = {}\n",
    "  for className in classColumns.value:\n",
    "    clusters = metadata[className].unique()\n",
    "    allClasses[className] = len(clusters)\n",
    "  l = sorted(allClasses.items(), key=lambda item: item[1])[0]\n",
    "  length = max(allClasses.values())\n",
    "  allColors = {}\n",
    "  colors = distinctipy.get_colors(length)\n",
    "  col = 5\n",
    "  row = math.ceil(length/col)\n",
    "  i=0\n",
    "  rows = []\n",
    "  for r in range(0,col):\n",
    "    newRow = []\n",
    "    for c in range(0,row):\n",
    "      # classColorDict[className] = widgets.ColorPicker(concise=True, value=distinctipy.get_hex(colors[i]))\n",
    "      if i < len(colors):\n",
    "        allColors[i] = widgets.ColorPicker(concise=False, description=str(i), value=distinctipy.get_hex(colors[i]),layout=layoutCl,style=styleCol)\n",
    "        newRow.append(allColors[i])\n",
    "        i+=1\n",
    "    rows.append(VBox([nr for nr in newRow]))\n",
    "  display(HBox(rows))\n",
    "else:\n",
    "  allColors = False\n",
    "  print(\"No cluster was selected.\")"
   ]
  },
  {
   "cell_type": "code",
   "execution_count": 16,
   "metadata": {
    "id": "eDcpx2pwCQYT"
   },
   "outputs": [
    {
     "name": "stdout",
     "output_type": "stream",
     "text": [
      "saved metadata.json\n"
     ]
    }
   ],
   "source": [
    "#@title Create metadata.json\n",
    "#@markdown Creates and saves the metadata.json file\n",
    "#@markdown >Note: This step is necessary!\n",
    "\n",
    "from CSN_utils import Utils\n",
    "\n",
    "try:\n",
    "  sliderCols\n",
    "except NameError:\n",
    "  sliderCols = list(sliderColumns.value)\n",
    "\n",
    "imageFolder = f'public/datasets/{foldername}/images/'\n",
    "if useExample.value == True:\n",
    "  metadata[\"URL\"] = metadata[filenameColumn.value]\n",
    "else:\n",
    "  metadata[\"URL\"] = f\"{imageFolder}/{metadata[filenameColumn.value]}\"\n",
    "metadataColumns = set(list(infoColumns.value) + sliderCols + list(filterColumns.value) + list(classColumns.value))\n",
    "metadataColumns.add(filenameColumn.value)\n",
    "metadataColumns = list(metadataColumns)  # Convert set to list\n",
    "metadata = metadata[metadataColumns]\n",
    "Utils.write_metadata(foldername, metadata, filenameColumn.value)"
   ]
  },
  {
   "cell_type": "code",
   "execution_count": 17,
   "metadata": {
    "cellView": "form",
    "id": "nu88VZMUR8Km"
   },
   "outputs": [
    {
     "name": "stdout",
     "output_type": "stream",
     "text": [
      "preparing Slider Bar Historgram data Colorfulness\n",
      "preparing Slider Bar Historgram data Colors\n",
      "preparing Slider Bar Historgram data Contrast\n",
      "preparing Slider Bar Historgram data File Size\n",
      "preparing Slider Bar Historgram data PC1\n",
      "preparing Slider Bar Historgram data PC2\n",
      "saved barData.json\n",
      "saved config.json\n",
      "saved datasets_config.json\n"
     ]
    }
   ],
   "source": [
    "#@title Calculate Histograms and create config files\n",
    "#@markdown The CSN features Range Sliders with interactive histograms. This step calculates the necessary bins and prepares the data to display the histograms.\n",
    "\n",
    "try:\n",
    "    sliderCols\n",
    "except NameError:\n",
    "    sliderCols = list(sliderColumns.value)\n",
    "\n",
    "\n",
    "from CSN_utils import HistogramGenerator, Utils\n",
    "\n",
    "BarChartData = HistogramGenerator(foldername, data=metadata, selection=sliderCols, bucketCount = 50).generate()\n",
    "\n",
    "def save_datasetsJSON():\n",
    "  with open(f'build/datasets/datasets_config.json', \"w\") as fd:\n",
    "    json.dump(datasetsJSON , fd)\n",
    "  print(\"saved datasets_config.json\")\n",
    "\n",
    "def make_default(DEFAULT):\n",
    "  datasetsJSON[\"default\"] = DEFAULT\n",
    "  print(f\"changed default dataset to {datasetsJSON['data'][DEFAULT]['name']}\")\n",
    "  save_datasetsJSON()\n",
    "\n",
    "\n",
    "sliderSetting = []\n",
    "\n",
    "for k in sliderCols:\n",
    "  dtype = 'float'\n",
    "  if pd.api.types.is_integer_dtype(metadata[k]):\n",
    "    dtype = 'int'\n",
    "  slider = {\"id\":k,\"title\":sliderNameDict[k].value,\"info\":sliderInfoDict[k].value,\"typeNumber\":dtype,\"color\":sliderColorDict[k].value, \"min\":metadata[k].min(),\"max\":metadata[k].max()}\n",
    "  sliderSetting.append(slider)\n",
    "searchFields = []\n",
    "for k in filterColumns.value:\n",
    "  filter = {\"columnField\":k,\"type\":\"selection\"}\n",
    "  searchFields.append(filter)\n",
    "try:\n",
    "    allColors\n",
    "except NameError:\n",
    "    clusters = {\"clusterList\":[],\"clusterColors\":[]}\n",
    "else:\n",
    "    clusters = {\"clusterList\":list(classColumns.value),\"clusterColors\":[allColors[g].value for g in allColors]}\n",
    "\n",
    "\n",
    "configData = Utils.write_config(directory=foldername, title=datasetTitle.value, description=description.value, mappings=mappings, clusters=clusters, total=len(metadata), sliderSetting=sliderSetting, infoColumns=infoColumns.value, searchFields=searchFields, imageWebLocation=imageWebLocation.value, spriteRows=32, squareSize=2048, spriteSize=64, spriteDir=None)\n",
    "newDataset = {'name': datasetTitle.value, 'directory': foldername}\n",
    "\n",
    "datasetsJSON = {\"default\": 0, \"data\": [newDataset]}\n",
    "save_datasetsJSON()"
   ]
  },
  {
   "cell_type": "markdown",
   "metadata": {
    "id": "GcRP9nmafoc7"
   },
   "source": [
    "----------------"
   ]
  },
  {
   "cell_type": "markdown",
   "metadata": {
    "id": "K5sixPIZr16X"
   },
   "source": [
    "<font size=6> 5) Test and use your custom Collection Space Navigator"
   ]
  },
  {
   "cell_type": "code",
   "execution_count": 20,
   "metadata": {},
   "outputs": [],
   "source": [
    "%load_ext autoreload\n",
    "%autoreload 2"
   ]
  },
  {
   "cell_type": "code",
   "execution_count": 21,
   "metadata": {
    "cellView": "form",
    "id": "Y0GYnYFtjHig"
   },
   "outputs": [
    {
     "ename": "ModuleNotFoundError",
     "evalue": "No module named 'google.colab'",
     "output_type": "error",
     "traceback": [
      "\u001b[0;31m---------------------------------------------------------------------------\u001b[0m",
      "\u001b[0;31mModuleNotFoundError\u001b[0m                       Traceback (most recent call last)",
      "Cell \u001b[0;32mIn[21], line 4\u001b[0m\n\u001b[1;32m      1\u001b[0m \u001b[38;5;66;03m#@title (optional) Download\u001b[39;00m\n\u001b[1;32m      2\u001b[0m \u001b[38;5;66;03m#@markdown >Note: Download your CSN version 'CSN_build.zip' to use it locally. Only needed in Google Colab.\u001b[39;00m\n\u001b[0;32m----> 4\u001b[0m \u001b[38;5;28;01mfrom\u001b[39;00m \u001b[38;5;21;01mgoogle\u001b[39;00m\u001b[38;5;21;01m.\u001b[39;00m\u001b[38;5;21;01mcolab\u001b[39;00m \u001b[38;5;28;01mimport\u001b[39;00m files\n\u001b[1;32m      6\u001b[0m get_ipython()\u001b[38;5;241m.\u001b[39msystem(\u001b[38;5;124m'\u001b[39m\u001b[38;5;124m7z a CSN_build.zip build\u001b[39m\u001b[38;5;124m'\u001b[39m)\n\u001b[1;32m      8\u001b[0m files\u001b[38;5;241m.\u001b[39mdownload(\u001b[38;5;124m'\u001b[39m\u001b[38;5;124m/content/CSN/CSN_build.zip\u001b[39m\u001b[38;5;124m'\u001b[39m)\n",
      "\u001b[0;31mModuleNotFoundError\u001b[0m: No module named 'google.colab'"
     ]
    }
   ],
   "source": [
    "#@title (optional) Download\n",
    "#@markdown >Note: Download your CSN version 'CSN_build.zip' to use it locally. Only needed in Google Colab.\n",
    "\n",
    "from google.colab import files\n",
    "\n",
    "!7z a CSN_build.zip build\n",
    "\n",
    "files.download('/content/CSN/CSN_build.zip')\n"
   ]
  },
  {
   "cell_type": "code",
   "execution_count": null,
   "metadata": {
    "cellView": "form",
    "id": "IzISmA5UTmE9"
   },
   "outputs": [],
   "source": [
    "#@title (optional) Run proxy server in Google Colab (for quick testing)\n",
    "#@markdown >Note: **This will run in Colab until stopped!** Sharing the link won't work and it might be a bit slow. Connection will close after few minutes.\n",
    "\n",
    "try:\n",
    "  from flask import Flask, render_template,send_from_directory\n",
    "except:\n",
    "  print(\"Installing flask via Pip\")\n",
    "  !pip install flask\n",
    "  from flask import Flask, render_template,send_from_directory\n",
    "\n",
    "\n",
    "import portpicker\n",
    "import threading\n",
    "import socket\n",
    "import http.server\n",
    "import socketserver\n",
    "from functools import partial\n",
    "from google.colab import output\n",
    "from google.colab.output import eval_js\n",
    "\n",
    "def server_entry():\n",
    "    Handler = partial(http.server.SimpleHTTPRequestHandler, directory='/content/CSN/build')\n",
    "    httpd = socketserver.TCPServer((\"\", port), Handler)\n",
    "    # Handle a single request then exit the thread.\n",
    "    httpd.serve_forever()\n",
    "\n",
    "port = portpicker.pick_unused_port()\n",
    "thread = threading.Thread(target=server_entry)\n",
    "thread.start()\n",
    "output.serve_kernel_port_as_window(port)\n",
    "port = portpicker.pick_unused_port()\n",
    "proxy_URL = eval_js(\"google.colab.kernel.proxyPort(%d)\" %port)\n",
    "\n",
    "print(\"\")\n",
    "print(20*'#')\n",
    "print(\"\")\n",
    "print(f\"Use this url: {proxy_URL}\")\n",
    "print(\"\")\n",
    "print(20*'#')\n",
    "print(\"\")\n",
    "print('starting server...')\n",
    "print('Note: this will run in Colab until stopped!')\n",
    "\n",
    "\n",
    "app = Flask(__name__,static_folder='/content/CSN/build/static',template_folder='/content/CSN/build')\n",
    "\n",
    "@app.route('/<path:path>')\n",
    "def send_report(path):\n",
    "  # remove the replace in next to lines later later <-- important !!!!!!!!\n",
    "  print(\"files\",path)\n",
    "  return send_from_directory('/content/CSN/build/', str(path))\n",
    "\n",
    "@app.route('/CSN/static/<path:path>')\n",
    "def send_report2(path):\n",
    "  # remove the replace in next to lines later later <-- important !!!!!!!!\n",
    "  print(\"files\",path)\n",
    "  return send_from_directory('/content/CSN/build/static/', str(path))\n",
    "\n",
    "@app.route('/CSN/datasets/<path:path>')\n",
    "def send_report3(path):\n",
    "  # remove the replace in next to lines later later <-- important !!!!!!!!\n",
    "  print(\"files\",path)\n",
    "  return send_from_directory('/content/CSN/build/datasets/', str(path))\n",
    "\n",
    "\n",
    "@app.route(\"/\")\n",
    "def home():\n",
    "    return render_template('index.html')\n",
    "\n",
    "if __name__ == \"__main__\":\n",
    "  app.run(debug=False, port=port)\n"
   ]
  },
  {
   "cell_type": "code",
   "execution_count": null,
   "metadata": {
    "cellView": "form",
    "id": "XgEk2EG9jXyy"
   },
   "outputs": [],
   "source": [
    "#@title (optional) Run ngrok server\n",
    "ngrok_Authtoken = 'YOUR_NGROK_TOKEN' #@param {type:\"string\"}\n",
    "#@markdown >Note: **This will run until stopped!** Requieres an ngrok account. See: https://ngrok.com/\n",
    "\n",
    "try:\n",
    "  from pyngrok import ngrok\n",
    "  from flask_ngrok import run_with_ngrok\n",
    "  from flask import Flask, render_template,send_from_directory\n",
    "except:\n",
    "  print(\"Installing flask, flask_ngrok and pyngrok via Pip\")\n",
    "  !pip install flask flask_ngrok pyngrok\n",
    "  from flask import Flask, render_template,send_from_directory\n",
    "  from pyngrok import ngrok\n",
    "  from flask_ngrok import run_with_ngrok\n",
    "\n",
    "app = Flask(__name__,static_folder='/content/CSN/build/',template_folder='/content/CSN/build/')\n",
    "\n",
    "ngrok.set_auth_token(ngrok_Authtoken)\n",
    "run_with_ngrok(app)\n",
    "@app.route('/<path:path>')\n",
    "def send_report(path):\n",
    "  # remove the replace in next to lines later later <-- important !!!!!!!!\n",
    "  print(\"files\",path)\n",
    "  return send_from_directory('/content/CSN/build/', str(path))\n",
    "\n",
    "@app.route('/CSN/static/<path:path>')\n",
    "def send_report2(path):\n",
    "  # remove the replace in next to lines later later <-- important !!!!!!!!\n",
    "  print(\"files\",path)\n",
    "  return send_from_directory('/content/CSN/build/static/', str(path))\n",
    "\n",
    "@app.route('/CSN/datasets/<path:path>')\n",
    "def send_report3(path):\n",
    "  # remove the replace in next to lines later later <-- important !!!!!!!!\n",
    "  print(\"files\",path)\n",
    "  return send_from_directory('/content/CSN/build/datasets/', str(path))\n",
    "\n",
    "@app.route(\"/\")\n",
    "def home():\n",
    "    return render_template('index.html')\n",
    "\n",
    "if __name__ == \"__main__\":\n",
    "  app.run()"
   ]
  },
  {
   "cell_type": "markdown",
   "metadata": {
    "id": "imqkuAZRiRIB"
   },
   "source": [
    "## (optional) Run in localhost\n",
    "\n",
    ">Note: only works locally (not within Colab)\n",
    "\n",
    "To run your CSN version on localhost, unzip your downloaded file, open a terminal, navigate to your CSN directory and run `serve -s`\n",
    "\n",
    "The CSN should be then accessible at http://localhost:3000 in your browser.\n",
    "\n"
   ]
  },
  {
   "cell_type": "markdown",
   "metadata": {
    "id": "1zyht2IFkpWT"
   },
   "source": [
    "### (optional) Use as production web tool\n",
    "\n",
    "We recommend to use GitHub for hosting your custom CSN version and an external server for hosting your image collection. Note that GitHub limits any dataset to 1000 files.\n",
    "\n",
    "To deploy your version as a web tool in GitHub:\n",
    "\n",
    ">Note: Make sure your GitHub branch is called `gh-pages` and has the GitHub Pages option set. See more about GitHub Pages here: https://pages.github.com/\n",
    "\n",
    "1. clone the official CSN repository: https://github.com/Collection-Space-Navigator/CSN  \n",
    "\n",
    "2. install NVM: https://github.com/nvm-sh/nvm    \n",
    "\n",
    "`curl -o- https://raw.githubusercontent.com/nvm-sh/nvm/v0.39.3/install.sh | bash\n",
    "export NVM_DIR=\"$([ -z \"${XDG_CONFIG_HOME-}\" ] && printf %s \"${HOME}/.nvm\" || printf %s \"${XDG_CONFIG_HOME}/nvm\")\"\n",
    "[ -s \"$NVM_DIR/nvm.sh\" ] && \\. \"$NVM_DIR/nvm.sh\" # This loads nvm`  \n",
    "\n",
    "3. install node 16.16.0: by running `nvm install v16.16.0`  \n",
    "\n",
    "4. replace the `CSN/build` folder with your own  \n",
    "\n",
    "5. in `package.json,` change `\"homepage\": \"\"` to your GitHub pages URL (e.g. `\"homepage\": \"https://collection-space-navigator.github.io/CSN\"`)  \n",
    "\n",
    "6. deploy the build folder to your GitHub pages by running `npm run deploy`  \n",
    "\n",
    "\n",
    "For more information and other deployment options, see https://create-react-app.dev/docs/deployment/"
   ]
  },
  {
   "cell_type": "markdown",
   "metadata": {
    "id": "bXUKddHA6KPu"
   },
   "source": []
  }
 ],
 "metadata": {
  "colab": {
   "provenance": []
  },
  "kernelspec": {
   "display_name": "Python 3 (ipykernel)",
   "language": "python",
   "name": "python3"
  },
  "language_info": {
   "codemirror_mode": {
    "name": "ipython",
    "version": 3
   },
   "file_extension": ".py",
   "mimetype": "text/x-python",
   "name": "python",
   "nbconvert_exporter": "python",
   "pygments_lexer": "ipython3",
   "version": "3.11.9"
  },
  "vscode": {
   "interpreter": {
    "hash": "894f073ee313a387d8ab0b54a40d2928fe73692ba23550c72584c9df3304ca06"
   }
  }
 },
 "nbformat": 4,
 "nbformat_minor": 4
}
